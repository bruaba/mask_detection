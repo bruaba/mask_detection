{
  "nbformat": 4,
  "nbformat_minor": 0,
  "metadata": {
    "accelerator": "GPU",
    "colab": {
      "name": "Resnet_Projet_Mask.ipynb",
      "provenance": [],
      "collapsed_sections": [],
      "history_visible": true,
      "include_colab_link": true
    },
    "kernelspec": {
      "display_name": "Python 3",
      "name": "python3"
    }
  },
  "cells": [
    {
      "cell_type": "markdown",
      "metadata": {
        "id": "view-in-github",
        "colab_type": "text"
      },
      "source": [
        "<a href=\"https://colab.research.google.com/github/bruaba/mask_detection/blob/main/Resnet_Projet_Mask.ipynb\" target=\"_parent\"><img src=\"https://colab.research.google.com/assets/colab-badge.svg\" alt=\"Open In Colab\"/></a>"
      ]
    },
    {
      "cell_type": "code",
      "metadata": {
        "id": "Un-gY1PjvoK8"
      },
      "source": [
        "# -*- coding: utf-8 -*-\n",
        "\"\"\"\n",
        "Created on Sun Nov 29 18:40:11 2020\n",
        "\n",
        "@author: cheikh\n",
        "\"\"\"\n",
        "#libraries\n",
        "\n",
        "import numpy as np\n",
        "import pandas as pd\n",
        "import matplotlib.pyplot as plt\n",
        "import cv2\n",
        "import random as rand\n",
        "import keras\n",
        "import tensorflow_addons as tfa\n",
        "import matplotlib.pyplot as plt\n",
        "import warnings\n",
        "warnings.filterwarnings('ignore')   # Suppress Matplotlib warnings\n",
        "from PIL import Image\n",
        "from tensorflow.keras.applications import MobileNetV2\n",
        "from tensorflow.keras.applications import ResNet50V2\n",
        "from tensorflow.keras import Sequential\n",
        "from tensorflow.keras.layers import AveragePooling2D\n",
        "from tensorflow.keras.layers import Dropout\n",
        "from tensorflow.keras.layers import BatchNormalization\n",
        "from tensorflow.keras.layers import Flatten\n",
        "from tensorflow.keras.layers import Dense\n",
        "from tensorflow.keras.layers import Input\n",
        "from tensorflow.keras.models import Model\n",
        "from tensorflow.keras.optimizers import Adam\n",
        "from tensorflow.keras.applications.mobilenet_v2 import preprocess_input\n",
        "from tensorflow.keras.preprocessing.image import ImageDataGenerator\n",
        "from tensorflow.keras.preprocessing.image import img_to_array\n",
        "from tensorflow.keras.preprocessing.image import load_img\n",
        "from tensorflow.keras.utils import to_categorical\n",
        "from sklearn.preprocessing import LabelEncoder\n",
        "from sklearn.preprocessing import LabelBinarizer\n",
        "from sklearn.model_selection import train_test_split\n",
        "from sklearn.metrics import classification_report\n",
        "#from keras_radam import RAdam\n",
        "from imutils import paths\n",
        "from bs4 import BeautifulSoup"
      ],
      "execution_count": 14,
      "outputs": []
    },
    {
      "cell_type": "code",
      "metadata": {
        "id": "5JoSSVpfMzbA"
      },
      "source": [
        "def load_image_into_numpy_array(path):\n",
        "    \"\"\"Load an image from file into a numpy array.\n",
        "\n",
        "    Puts image into numpy array to feed into tensorflow graph.\n",
        "    Note that by convention we put it into a numpy array with shape\n",
        "    (height, width, channels), where channels=3 for RGB.\n",
        "\n",
        "    Args:\n",
        "      path: the file path to the image\n",
        "\n",
        "    Returns:\n",
        "      uint8 numpy array with shape (img_height, img_width, 3)\n",
        "    \"\"\"\n",
        "    return np.array(Image.open(path))"
      ],
      "execution_count": 15,
      "outputs": []
    },
    {
      "cell_type": "code",
      "metadata": {
        "id": "CsDZaMY-wlPG"
      },
      "source": [
        "def generate_box(obj):  \n",
        "    xmin = int(float(obj.find('xmin').text))\n",
        "    ymin = int(float(obj.find('ymin').text))\n",
        "    xmax = int(float(obj.find('xmax').text))\n",
        "    ymax = int(float(obj.find('ymax').text))\n",
        "    \n",
        "    return [xmin, ymin, xmax, ymax]\n",
        "\n",
        "#This function will give label assciated with each label and convert them to numbers\n",
        "def generate_label(obj):\n",
        "    if obj.find('name').text == \"with_mask\":\n",
        "        return 1\n",
        "    elif obj.find('name').text == \"mask_weared_incorrect\":\n",
        "        return 2\n",
        "#    elif obj.find('name').text == \"without_mask\":\n",
        "#        return 3\n",
        "    return 0\n",
        "\n",
        "#Using in this main function we parse the annotations file and get the objects out from them\n",
        "# Also we use the above two functions here \n",
        "def generate_target(image_id, file): \n",
        "    with open(file) as f:\n",
        "        data = f.read()\n",
        "        soup = BeautifulSoup(data, 'xml')\n",
        "        objects = soup.find_all('object')\n",
        "\n",
        "        num_objs = len(objects)\n",
        "\n",
        "        boxes = []\n",
        "        labels = []\n",
        "        for i in objects:\n",
        "            boxes.append(generate_box(i))\n",
        "            labels.append(generate_label(i))\n",
        "            \n",
        "        boxes=np.array(boxes)\n",
        "        labels=np.array(labels)\n",
        "\n",
        "        img_id = np.array(image_id)\n",
        "    # Annotation is in dictionary format\n",
        "        target = {}\n",
        "        target[\"boxes\"] = boxes\n",
        "        target[\"labels\"] = labels\n",
        "        \n",
        "        return (target,num_objs)"
      ],
      "execution_count": 16,
      "outputs": []
    },
    {
      "cell_type": "code",
      "metadata": {
        "id": "yT5qDo6VJWGM"
      },
      "source": [
        "import os\n",
        "os.chdir(\"/content/drive/MyDrive/Colab Notebooks (1)\")\n",
        "#!ls\n",
        "\n",
        "\n",
        "IMG_SIZE = 224\n",
        "CHANNELS = 3\n",
        "N_LABELS= 3"
      ],
      "execution_count": 17,
      "outputs": []
    },
    {
      "cell_type": "code",
      "metadata": {
        "colab": {
          "base_uri": "https://localhost:8080/"
        },
        "id": "9Vn5dLPrwqwx",
        "outputId": "6a2e5234-dea1-4d3a-f862-21c28020b2f4"
      },
      "source": [
        "\n",
        "\n",
        "imgs = list(sorted(os.listdir(\"MaskTrainDataset/JPEGImages/\")))\n",
        "labels = list(sorted(os.listdir(\"MaskTrainDataset/Annotations/\")))\n",
        "#nombre d'images et de labels\n",
        "print(len(imgs))\n",
        "print(len(labels))"
      ],
      "execution_count": 18,
      "outputs": [
        {
          "output_type": "stream",
          "text": [
            "2655\n",
            "2655\n"
          ],
          "name": "stdout"
        }
      ]
    },
    {
      "cell_type": "code",
      "metadata": {
        "id": "5dm5bJc3T475"
      },
      "source": [
        "# Here we use the above functions and save results in lists\n",
        "targets=[]#store coordinates\n",
        "numobjs=[]#stores number of faces in each image\n",
        "#run the loop for number of images we have\n",
        "\n",
        "i=0\n",
        "for dirname, _, filenames in os.walk('MaskTrainDataset/Annotations/'):\n",
        "    for filename in filenames:\n",
        "        target, numobj = generate_target(i, os.path.join(dirname, filename))\n",
        "        targets.append(target)\n",
        "        numobjs.append(numobj)\n",
        "        i+=1\n",
        "\n"
      ],
      "execution_count": 19,
      "outputs": []
    },
    {
      "cell_type": "code",
      "metadata": {
        "id": "T4f45ziC0--o"
      },
      "source": [
        "i=0\n",
        "face_images=[]\n",
        "face_labels=[]\n",
        "\n",
        "\n",
        "for dirname, _, filenames in os.walk('MaskTrainDataset/JPEGImages/'):\n",
        "    for filename in filenames:\n",
        "        img_path = os.path.join(dirname, filename)\n",
        "        img = cv2.imread(img_path)\n",
        "        for j in range(numobjs[i]):\n",
        "            locs = (targets[i]['boxes'][j])\n",
        "            img1 = img[int(locs[1]):int(locs[3]), int(locs[0]):int(locs[2])]       \n",
        "            try:\n",
        "                img1 = cv2.resize(img1, (IMG_SIZE, IMG_SIZE))\n",
        "                img1 = img_to_array(img1)\n",
        "                img1 = preprocess_input(img1)\n",
        "                face_images.append(img1)\n",
        "                face_labels.append(targets[i]['labels'][j])\n",
        "            except cv2.error:\n",
        "                continue\n",
        "            \n",
        "        i+=1\n",
        "face_images= np.array(face_images, dtype=\"float32\")\n",
        "face_labels = np.array(face_labels)\n"
      ],
      "execution_count": 20,
      "outputs": []
    },
    {
      "cell_type": "code",
      "metadata": {
        "id": "I49lrVD_5GGR",
        "colab": {
          "base_uri": "https://localhost:8080/"
        },
        "outputId": "f6db0287-6bf8-43c9-eec9-8382bcbb94e1"
      },
      "source": [
        "\n",
        "print(len(face_labels))\n",
        "print(len(face_images))"
      ],
      "execution_count": 21,
      "outputs": [
        {
          "output_type": "stream",
          "text": [
            "5735\n",
            "5735\n"
          ],
          "name": "stdout"
        }
      ]
    },
    {
      "cell_type": "code",
      "metadata": {
        "id": "OfQkzLrKUIxa",
        "colab": {
          "base_uri": "https://localhost:8080/"
        },
        "outputId": "c5fa19cb-7630-444c-925a-3aa8733f6cf7"
      },
      "source": [
        "unique, counts = np.unique(face_labels, return_counts=True)\n",
        "print(dict(zip(unique, counts)))"
      ],
      "execution_count": 22,
      "outputs": [
        {
          "output_type": "stream",
          "text": [
            "{0: 1319, 1: 3988, 2: 428}\n"
          ],
          "name": "stdout"
        }
      ]
    },
    {
      "cell_type": "code",
      "metadata": {
        "id": "KvKGgPhYUM9q",
        "colab": {
          "base_uri": "https://localhost:8080/"
        },
        "outputId": "c97cf0ce-833f-4185-cae2-03a88afc61cc"
      },
      "source": [
        "#Encode the labels in one hot encode form\n",
        "\n",
        "#c'est pour transformer les données non numerique en numerique\n",
        "#ici les labels\n",
        "#https://stackoverrun.com/fr/q/12291556\n",
        "\n",
        "lb = LabelEncoder()\n",
        "train_labels = lb.fit_transform(face_labels)\n",
        "train_labels = to_categorical(train_labels)\n",
        "print(train_labels)"
      ],
      "execution_count": 23,
      "outputs": [
        {
          "output_type": "stream",
          "text": [
            "[[0. 1. 0.]\n",
            " [0. 1. 0.]\n",
            " [0. 1. 0.]\n",
            " ...\n",
            " [0. 1. 0.]\n",
            " [0. 0. 1.]\n",
            " [0. 1. 0.]]\n"
          ],
          "name": "stdout"
        }
      ]
    },
    {
      "cell_type": "code",
      "metadata": {
        "id": "U7Bigd_QUcW4"
      },
      "source": [
        "#divide data into training and testing sets\n",
        "(trainX, testX, trainY, testY) = train_test_split(face_images, train_labels,\n",
        "    test_size=0.20, stratify=train_labels, random_state=42)\n"
      ],
      "execution_count": 31,
      "outputs": []
    },
    {
      "cell_type": "code",
      "metadata": {
        "id": "P8HVBynk5Axt"
      },
      "source": [
        "# construct the training image generator for data augmentation\n",
        "\"\"\"\n",
        "La classe ImageDataGenerator garantit que le modèle reçoit de nouvelles variations des images à chaque époque. \n",
        "Mais il ne renvoie que les images transformées et ne les ajoute pas au corpus original d'images. \n",
        "Si c'était effectivement le cas, alors le modèle verrait les images originales plusieurs fois, ce qui sur-adapterait certainement notre modèle.\n",
        "\n",
        "Un autre avantage d'ImageDataGenerator est qu'il nécessite une moindre utilisation de la mémoire. \n",
        "En effet, sans utiliser cette classe, nous chargeons toutes les images en même temps. Mais en l'utilisant, nous chargeons les images par lots, ce qui économise beaucoup de mémoire.\n",
        "\"\"\"\n",
        "#https://www.analyticsvidhya.com/blog/2020/08/image-augmentation-on-the-fly-using-keras-imagedatagenerator/\n",
        "aug = ImageDataGenerator(\n",
        "\trotation_range=20,\n",
        "\tzoom_range=0.15,\n",
        "\twidth_shift_range=0.2,\n",
        "\theight_shift_range=0.2,\n",
        "\tshear_range=0.15,\n",
        "  vertical_flip = True,\n",
        "\tfill_mode=\"nearest\")"
      ],
      "execution_count": 25,
      "outputs": []
    },
    {
      "cell_type": "code",
      "metadata": {
        "id": "YYCan6QkUSfv"
      },
      "source": [
        "feature_extractor_layer = ResNet50V2(weights=\"imagenet\", include_top=False,\n",
        "\tinput_tensor=Input(shape=(IMG_SIZE,IMG_SIZE,CHANNELS)))\n",
        "\n",
        "feature_extractor_layer.trainable = False\n",
        "\n",
        "\n",
        "model = Sequential([\n",
        "    feature_extractor_layer,\n",
        "    Flatten(name=\"flatten\"),\n",
        "    Dropout(0.5),\n",
        "    Dense(128, activation='relu', name='hidden_layer'),\n",
        "    Dropout(0.5),\n",
        "    Dense(N_LABELS, activation='sigmoid', name='output')\n",
        "])\n"
      ],
      "execution_count": 80,
      "outputs": []
    },
    {
      "cell_type": "code",
      "metadata": {
        "id": "3Zp82ReD4xLv"
      },
      "source": [
        "#Free some space.I did this tep as the notebook was running out of space while training\n",
        "#del targets,face_images,face_labels"
      ],
      "execution_count": null,
      "outputs": []
    },
    {
      "cell_type": "code",
      "metadata": {
        "id": "ATU92ddD48B2"
      },
      "source": [
        "LR = 1e-5 # Keep it small when transfer learning\n",
        "EPOCHS = 20\n",
        "BS = 32"
      ],
      "execution_count": 48,
      "outputs": []
    },
    {
      "cell_type": "code",
      "metadata": {
        "id": "fIJGTqqW7AP8"
      },
      "source": [
        "model.compile(\n",
        "  optimizer=Adam(learning_rate=LR),\n",
        "  loss=\"binary_crossentropy\",\n",
        "  metrics=[\"accuracy\"])\n"
      ],
      "execution_count": 81,
      "outputs": []
    },
    {
      "cell_type": "code",
      "metadata": {
        "id": "K66FwB8DUmqw",
        "colab": {
          "base_uri": "https://localhost:8080/"
        },
        "outputId": "5d08dc81-faf7-4118-95d0-129411c8d720"
      },
      "source": [
        "import time\n",
        "start = time.time()\n",
        "# train the head of the network\n",
        "print(\"[INFO] training head...\")\n",
        "\n",
        "H = model.fit(\n",
        "\taug.flow(trainX, trainY, batch_size=BS),\n",
        "  steps_per_epoch=len(trainX) // BS,\n",
        "\tvalidation_data=(testX, testY),\n",
        "\n",
        "\tepochs=EPOCHS\n",
        "  )\n",
        "\n",
        "print('\\nTraining took {}'.format((time.time()-start)))"
      ],
      "execution_count": 83,
      "outputs": [
        {
          "output_type": "stream",
          "text": [
            "[INFO] training head...\n",
            "Epoch 1/30\n",
            "35/35 [==============================] - 47s 1s/step - loss: 0.5385 - accuracy: 0.6673 - val_loss: 0.4994 - val_accuracy: 0.6922\n",
            "Epoch 2/30\n",
            "35/35 [==============================] - 47s 1s/step - loss: 0.5201 - accuracy: 0.6735 - val_loss: 0.4936 - val_accuracy: 0.6922\n",
            "Epoch 3/30\n",
            "35/35 [==============================] - 47s 1s/step - loss: 0.5114 - accuracy: 0.6776 - val_loss: 0.4912 - val_accuracy: 0.6922\n",
            "Epoch 4/30\n",
            "35/35 [==============================] - 47s 1s/step - loss: 0.5049 - accuracy: 0.6814 - val_loss: 0.4910 - val_accuracy: 0.6931\n",
            "Epoch 5/30\n",
            "35/35 [==============================] - 47s 1s/step - loss: 0.4956 - accuracy: 0.6836 - val_loss: 0.4896 - val_accuracy: 0.6914\n",
            "Epoch 6/30\n",
            "35/35 [==============================] - 47s 1s/step - loss: 0.4978 - accuracy: 0.6836 - val_loss: 0.4890 - val_accuracy: 0.6922\n",
            "Epoch 7/30\n",
            "35/35 [==============================] - 47s 1s/step - loss: 0.4972 - accuracy: 0.6834 - val_loss: 0.4891 - val_accuracy: 0.6931\n",
            "Epoch 8/30\n",
            "35/35 [==============================] - 47s 1s/step - loss: 0.4923 - accuracy: 0.6906 - val_loss: 0.4886 - val_accuracy: 0.6931\n",
            "Epoch 9/30\n",
            "35/35 [==============================] - 47s 1s/step - loss: 0.4902 - accuracy: 0.6892 - val_loss: 0.4888 - val_accuracy: 0.6931\n",
            "Epoch 10/30\n",
            "35/35 [==============================] - 47s 1s/step - loss: 0.4891 - accuracy: 0.6892 - val_loss: 0.4874 - val_accuracy: 0.6931\n",
            "Epoch 11/30\n",
            "35/35 [==============================] - 47s 1s/step - loss: 0.4893 - accuracy: 0.6872 - val_loss: 0.4879 - val_accuracy: 0.6940\n",
            "Epoch 12/30\n",
            "35/35 [==============================] - 47s 1s/step - loss: 0.4800 - accuracy: 0.6933 - val_loss: 0.4877 - val_accuracy: 0.6940\n",
            "Epoch 13/30\n",
            "35/35 [==============================] - 47s 1s/step - loss: 0.4781 - accuracy: 0.6951 - val_loss: 0.4871 - val_accuracy: 0.6940\n",
            "Epoch 14/30\n",
            "35/35 [==============================] - 47s 1s/step - loss: 0.4797 - accuracy: 0.6913 - val_loss: 0.4862 - val_accuracy: 0.6949\n",
            "Epoch 15/30\n",
            "35/35 [==============================] - 47s 1s/step - loss: 0.4833 - accuracy: 0.6917 - val_loss: 0.4882 - val_accuracy: 0.6949\n",
            "Epoch 16/30\n",
            "35/35 [==============================] - 47s 1s/step - loss: 0.4801 - accuracy: 0.6946 - val_loss: 0.4875 - val_accuracy: 0.6940\n",
            "Epoch 17/30\n",
            "35/35 [==============================] - 47s 1s/step - loss: 0.4768 - accuracy: 0.6944 - val_loss: 0.4882 - val_accuracy: 0.6949\n",
            "Epoch 18/30\n",
            "35/35 [==============================] - 47s 1s/step - loss: 0.4747 - accuracy: 0.6942 - val_loss: 0.4891 - val_accuracy: 0.6940\n",
            "Epoch 19/30\n",
            "35/35 [==============================] - 47s 1s/step - loss: 0.4768 - accuracy: 0.6922 - val_loss: 0.4866 - val_accuracy: 0.6931\n",
            "Epoch 20/30\n",
            "35/35 [==============================] - 47s 1s/step - loss: 0.4689 - accuracy: 0.6930 - val_loss: 0.4869 - val_accuracy: 0.6914\n",
            "Epoch 21/30\n",
            "35/35 [==============================] - 47s 1s/step - loss: 0.4702 - accuracy: 0.6935 - val_loss: 0.4880 - val_accuracy: 0.6922\n",
            "Epoch 22/30\n",
            "35/35 [==============================] - 47s 1s/step - loss: 0.4690 - accuracy: 0.6942 - val_loss: 0.4887 - val_accuracy: 0.6931\n",
            "Epoch 23/30\n",
            "35/35 [==============================] - 47s 1s/step - loss: 0.4715 - accuracy: 0.6931 - val_loss: 0.4892 - val_accuracy: 0.6922\n",
            "Epoch 24/30\n",
            "35/35 [==============================] - 47s 1s/step - loss: 0.4693 - accuracy: 0.6944 - val_loss: 0.4883 - val_accuracy: 0.6949\n",
            "Epoch 25/30\n",
            "35/35 [==============================] - 47s 1s/step - loss: 0.4700 - accuracy: 0.6960 - val_loss: 0.4899 - val_accuracy: 0.6931\n",
            "Epoch 26/30\n",
            "35/35 [==============================] - 47s 1s/step - loss: 0.4576 - accuracy: 0.6991 - val_loss: 0.4902 - val_accuracy: 0.6940\n",
            "Epoch 27/30\n",
            "35/35 [==============================] - 47s 1s/step - loss: 0.4603 - accuracy: 0.6984 - val_loss: 0.4895 - val_accuracy: 0.6949\n",
            "Epoch 28/30\n",
            "35/35 [==============================] - 47s 1s/step - loss: 0.4594 - accuracy: 0.6930 - val_loss: 0.4924 - val_accuracy: 0.6940\n",
            "Epoch 29/30\n",
            "35/35 [==============================] - 47s 1s/step - loss: 0.4540 - accuracy: 0.6996 - val_loss: 0.4906 - val_accuracy: 0.6957\n",
            "Epoch 30/30\n",
            "35/35 [==============================] - 47s 1s/step - loss: 0.4544 - accuracy: 0.7002 - val_loss: 0.4891 - val_accuracy: 0.6975\n",
            "\n",
            "Training took 1417.2721786499023\n"
          ],
          "name": "stdout"
        }
      ]
    },
    {
      "cell_type": "code",
      "metadata": {
        "id": "mpJBmdhoUsb4",
        "colab": {
          "base_uri": "https://localhost:8080/",
          "height": 637
        },
        "outputId": "e1bb7b6e-9056-4063-a28b-dd0fe2b4269f"
      },
      "source": [
        "# make predictions on the testing set\n",
        "print(\"[INFO] evaluating network...\")\n",
        "predIdxs = model.predict(testX, batch_size=BS)\n",
        "\n",
        "print(predIdxs)\n",
        "\n",
        "# for each image in the testing set we need to find the index of the\n",
        "# label with corresponding largest predicted probability\n",
        "predIdxs = np.argmax(predIdxs, axis=1)\n",
        "\n",
        "# show a nicely formatted classification report\n",
        "print(classification_report(testY.argmax(axis=1), predIdxs))\n",
        "\n",
        "\"\"\"\n",
        "from tensorflow.python.keras.metrics import Metric\n",
        "k = 4\n",
        "\n",
        "#avg_prec = Metric.average_precision_at_k(labels, predIdxs, k)\n",
        "\n",
        "#print(avg_prec)\n",
        "\n",
        "\"\"\"\n",
        "import seaborn as sns\n",
        "\n",
        "eval = model.evaluate(testX, testY)\n",
        "\n",
        "print(eval)\n",
        "\n",
        "test_Y = np.argmax(testY, axis=1)\n",
        "from sklearn.metrics import confusion_matrix\n",
        "\n",
        "sns.heatmap(confusion_matrix(test_Y, predIdxs), annot=True, fmt='g', cmap=plt.cm.Blues)\n",
        "plt.xlabel('Predicted label')\n",
        "plt.ylabel('True label')\n",
        "plt.show()\n",
        "\n"
      ],
      "execution_count": 84,
      "outputs": [
        {
          "output_type": "stream",
          "text": [
            "[INFO] evaluating network...\n",
            "[[0.26697218 0.631082   0.06848075]\n",
            " [0.09849625 0.8631059  0.02096519]\n",
            " [0.26602843 0.7090401  0.04143847]\n",
            " ...\n",
            " [0.15437093 0.7794755  0.01366145]\n",
            " [0.33874178 0.5707995  0.16171515]\n",
            " [0.20250745 0.67666    0.06580724]]\n",
            "              precision    recall  f1-score   support\n",
            "\n",
            "           0       0.50      0.01      0.02       264\n",
            "           1       0.70      1.00      0.82       797\n",
            "           2       0.60      0.03      0.07        86\n",
            "\n",
            "    accuracy                           0.70      1147\n",
            "   macro avg       0.60      0.35      0.30      1147\n",
            "weighted avg       0.65      0.70      0.58      1147\n",
            "\n",
            "36/36 [==============================] - 3s 85ms/step - loss: 0.4891 - accuracy: 0.6975\n",
            "[0.4890788495540619, 0.6974716782569885]\n"
          ],
          "name": "stdout"
        },
        {
          "output_type": "display_data",
          "data": {
            "image/png": "[encoded data removed]",
            "text/plain": [
              "<Figure size 432x288 with 2 Axes>"
            ]
          },
          "metadata": {
            "tags": []
          }
        }
      ]
    },
    {
      "cell_type": "code",
      "metadata": {
        "id": "vqHRWEwB9Snl",
        "colab": {
          "base_uri": "https://localhost:8080/"
        },
        "outputId": "ddde3a5b-f878-401a-e8c8-bcc5a6cea0bd"
      },
      "source": [
        "# serialize the model to disk\n",
        "print(\"[INFO] saving mask detector model...\")\n",
        "from datetime import datetime\n",
        "now = datetime.now()\n",
        "dt_string = now.strftime(\"%Y_%m_%d_%H_%M_%S\")\n",
        "dt_string = \"mask_detector_Adam_\" + dt_string\n",
        "print(dt_string)\n",
        "model.save(\"Model/\"+ dt_string + \".h5\")\n"
      ],
      "execution_count": 85,
      "outputs": [
        {
          "output_type": "stream",
          "text": [
            "[INFO] saving mask detector model...\n",
            "mask_detector_Adam_2021_01_26_21_19_35\n"
          ],
          "name": "stdout"
        }
      ]
    },
    {
      "cell_type": "code",
      "metadata": {
        "id": "Im9EfZGMUwQX",
        "colab": {
          "base_uri": "https://localhost:8080/",
          "height": 298
        },
        "outputId": "b01a9a77-75a2-473d-99fc-508cd473b695"
      },
      "source": [
        "# plot the training loss and accuracy\n",
        "\n",
        "\n",
        "N = EPOCHS\n",
        "plt.style.use(\"ggplot\")\n",
        "plt.figure()\n",
        "plt.plot(np.arange(0, N), H.history[\"loss\"], label=\"train_loss\")\n",
        "plt.plot(np.arange(0, N), H.history[\"val_loss\"], label=\"val_loss\")\n",
        "plt.plot(np.arange(0, N), H.history[\"accuracy\"], label=\"train_acc\")\n",
        "plt.plot(np.arange(0, N), H.history[\"val_accuracy\"], label=\"val_acc\")\n",
        "plt.title(\"Training Loss and Accuracy\")\n",
        "plt.xlabel(\"Epoch #\")\n",
        "plt.ylabel(\"Loss/Accuracy\")\n",
        "plt.legend(loc=\"lower left\")\n",
        "plt.savefig(\"Model/\"+ dt_string+\".png\")\n",
        "plt.show()"
      ],
      "execution_count": 86,
      "outputs": [
        {
          "output_type": "display_data",
          "data": {
            "image/png": "[encoded data removed]",
            "text/plain": [
              "<Figure size 432x288 with 1 Axes>"
            ]
          },
          "metadata": {
            "tags": []
          }
        }
      ]
    }
  ]
}