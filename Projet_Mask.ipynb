{
  "nbformat": 4,
  "nbformat_minor": 0,
  "metadata": {
    "accelerator": "GPU",
    "colab": {
      "name": "Projet_Mask.ipynb",
      "provenance": [],
      "mount_file_id": "1EX_eKMHP6zjFUp_c3aD7Q3aDwQNZOnHi",
      "authorship_tag": "ABX9TyPodaHx3FeQNkh43cOjVET1",
      "include_colab_link": true
    },
    "kernelspec": {
      "display_name": "Python 3",
      "name": "python3"
    }
  },
  "cells": [
    {
      "cell_type": "markdown",
      "metadata": {
        "id": "view-in-github",
        "colab_type": "text"
      },
      "source": [
        "<a href=\"https://colab.research.google.com/github/bruaba/mask_detection/blob/main/Projet_Mask.ipynb\" target=\"_parent\"><img src=\"https://colab.research.google.com/assets/colab-badge.svg\" alt=\"Open In Colab\"/></a>"
      ]
    },
    {
      "cell_type": "code",
      "metadata": {
        "id": "Un-gY1PjvoK8"
      },
      "source": [
        "# -*- coding: utf-8 -*-\n",
        "\"\"\"\n",
        "Created on Sun Nov 29 18:40:11 2020\n",
        "\n",
        "@author: cheikh\n",
        "\"\"\"\n",
        "#libraries\n",
        "\n",
        "import numpy as np\n",
        "import pandas as pd\n",
        "import matplotlib.pyplot as plt\n",
        "import cv2\n",
        "import random as rand\n",
        "import keras\n",
        "import tensorflow_addons as tfa\n",
        "from tensorflow.keras.applications import MobileNetV2\n",
        "from tensorflow.keras.layers import AveragePooling2D\n",
        "from tensorflow.keras.layers import Dropout\n",
        "from tensorflow.keras.layers import BatchNormalization\n",
        "from tensorflow.keras.layers import Flatten\n",
        "from tensorflow.keras.layers import Dense\n",
        "from tensorflow.keras.layers import Input\n",
        "from tensorflow.keras.models import Model\n",
        "from tensorflow.keras.optimizers import Adam\n",
        "from tensorflow.keras.applications.mobilenet_v2 import preprocess_input\n",
        "from tensorflow.keras.preprocessing.image import ImageDataGenerator\n",
        "from tensorflow.keras.preprocessing.image import img_to_array\n",
        "from tensorflow.keras.preprocessing.image import load_img\n",
        "from tensorflow.keras.utils import to_categorical\n",
        "from sklearn.preprocessing import LabelEncoder\n",
        "from sklearn.preprocessing import LabelBinarizer\n",
        "from sklearn.model_selection import train_test_split\n",
        "from sklearn.metrics import classification_report\n",
        "#from keras_radam import RAdam\n",
        "from imutils import paths\n",
        "from bs4 import BeautifulSoup"
      ],
      "execution_count": null,
      "outputs": []
    },
    {
      "cell_type": "code",
      "metadata": {
        "id": "CsDZaMY-wlPG"
      },
      "source": [
        "def generate_box(obj):  \n",
        "    xmin = int(float(obj.find('xmin').text))\n",
        "    ymin = int(float(obj.find('ymin').text))\n",
        "    xmax = int(float(obj.find('xmax').text))\n",
        "    ymax = int(float(obj.find('ymax').text))\n",
        "    \n",
        "    return [xmin, ymin, xmax, ymax]\n",
        "\n",
        "#This function will give label assciated with each label and convert them to numbers\n",
        "def generate_label(obj):\n",
        "    if obj.find('name').text == \"with_mask\":\n",
        "        return 1\n",
        "    elif obj.find('name').text == \"mask_weared_incorrect\":\n",
        "        return 2\n",
        "    elif obj.find('name').text == \"without_mask\":\n",
        "        return 3\n",
        "    return 0\n",
        "\n",
        "#Using in this main function we parse the annotations file and get the objects out from them\n",
        "# Also we use the above two functions here \n",
        "def generate_target(image_id, file): \n",
        "    with open(file) as f:\n",
        "        data = f.read()\n",
        "        soup = BeautifulSoup(data, 'xml')\n",
        "        objects = soup.find_all('object')\n",
        "\n",
        "        num_objs = len(objects)\n",
        "\n",
        "        boxes = []\n",
        "        labels = []\n",
        "        for i in objects:\n",
        "            boxes.append(generate_box(i))\n",
        "            labels.append(generate_label(i))\n",
        "            \n",
        "        boxes=np.array(boxes)\n",
        "        labels=np.array(labels)\n",
        "\n",
        "        img_id = np.array(image_id)\n",
        "    # Annotation is in dictionary format\n",
        "        target = {}\n",
        "        target[\"boxes\"] = boxes\n",
        "        target[\"labels\"] = labels\n",
        "        \n",
        "        return (target,num_objs)"
      ],
      "execution_count": null,
      "outputs": []
    },
    {
      "cell_type": "code",
      "metadata": {
        "colab": {
          "base_uri": "https://localhost:8080/"
        },
        "id": "9Vn5dLPrwqwx",
        "outputId": "23beb702-db6b-425e-fe0a-f239d98eb4aa"
      },
      "source": [
        "import os\n",
        "os.chdir(\"/content/drive/MyDrive/Colab Notebooks\")\n",
        "#!ls\n",
        "\n",
        "imgs = list(sorted(os.listdir(\"MaskTrainDataset/JPEGImages/\")))\n",
        "labels = list(sorted(os.listdir(\"MaskTrainDataset/Annotations/\")))\n",
        "#nombre d'images et de labels\n",
        "print(len(imgs))\n",
        "print(len(labels))"
      ],
      "execution_count": null,
      "outputs": [
        {
          "output_type": "stream",
          "text": [
            "2655\n",
            "2655\n"
          ],
          "name": "stdout"
        }
      ]
    },
    {
      "cell_type": "code",
      "metadata": {
        "id": "5dm5bJc3T475"
      },
      "source": [
        "# Here we use the above functions and save results in lists\n",
        "targets=[]#store coordinates\n",
        "numobjs=[]#stores number of faces in each image\n",
        "#run the loop for number of images we have\n",
        "\n",
        "i=0\n",
        "for dirname, _, filenames in os.walk('MaskTrainDataset/Annotations/'):\n",
        "    for filename in filenames:\n",
        "        target, numobj = generate_target(i, os.path.join(dirname, filename))\n",
        "        targets.append(target)\n",
        "        numobjs.append(numobj)\n",
        "        i+=1\n",
        "\n"
      ],
      "execution_count": null,
      "outputs": []
    },
    {
      "cell_type": "code",
      "metadata": {
        "id": "s2A1ou6Cyr6v"
      },
      "source": [
        "i=0\n",
        "face_images=[]\n",
        "face_labels=[]\n",
        "\n",
        "\n",
        "for dirname, _, filenames in os.walk('MaskTrainDataset/JPEGImages/'):\n",
        "    for filename in filenames:\n",
        "        img_path = os.path.join(dirname, filename)\n",
        "        img = cv2.imread(img_path)\n",
        "        for j in range(numobjs[i]):\n",
        "            locs = (targets[i]['boxes'][j])\n",
        "            img1 = img[int(locs[1]):int(locs[3]), int(locs[0]):int(locs[2])]       \n",
        "            try:\n",
        "                img1 = cv2.resize(img1, (224, 224))\n",
        "                img1 = img_to_array(img1)\n",
        "                img1 = preprocess_input(img1)\n",
        "                face_images.append(img1)\n",
        "                face_labels.append(targets[i]['labels'][j])\n",
        "            except cv2.error:\n",
        "                continue\n",
        "            \n",
        "        i+=1\n",
        "face_images= np.array(face_images, dtype=\"float32\")\n",
        "face_labels = np.array(face_labels)\n"
      ],
      "execution_count": null,
      "outputs": []
    },
    {
      "cell_type": "code",
      "metadata": {
        "colab": {
          "base_uri": "https://localhost:8080/"
        },
        "id": "I49lrVD_5GGR",
        "outputId": "6d5b6d91-dd41-4c54-961b-6166d114078c"
      },
      "source": [
        "\n",
        "print(len(face_labels))\n",
        "print(len(face_images))"
      ],
      "execution_count": null,
      "outputs": [
        {
          "output_type": "stream",
          "text": [
            "5773\n",
            "5773\n"
          ],
          "name": "stdout"
        }
      ]
    },
    {
      "cell_type": "code",
      "metadata": {
        "colab": {
          "base_uri": "https://localhost:8080/"
        },
        "id": "OfQkzLrKUIxa",
        "outputId": "210c0f77-7707-4bdf-dca9-af797d171ac5"
      },
      "source": [
        "import numpy as np\n",
        "unique, counts = np.unique(face_labels, return_counts=True)\n",
        "print(dict(zip(unique, counts)))"
      ],
      "execution_count": null,
      "outputs": [
        {
          "output_type": "stream",
          "text": [
            "{1: 4007, 2: 444, 3: 1322}\n"
          ],
          "name": "stdout"
        }
      ]
    },
    {
      "cell_type": "code",
      "metadata": {
        "colab": {
          "base_uri": "https://localhost:8080/"
        },
        "id": "KvKGgPhYUM9q",
        "outputId": "3235c033-eafe-482f-f8e8-c6682240fdd9"
      },
      "source": [
        "#Encode the labels in one hot encode form\n",
        "lb = LabelEncoder()\n",
        "labels = lb.fit_transform(face_labels)\n",
        "labels = to_categorical(labels)\n",
        "print(labels)"
      ],
      "execution_count": null,
      "outputs": [
        {
          "output_type": "stream",
          "text": [
            "[[1. 0. 0.]\n",
            " [1. 0. 0.]\n",
            " [1. 0. 0.]\n",
            " ...\n",
            " [0. 1. 0.]\n",
            " [1. 0. 0.]\n",
            " [1. 0. 0.]]\n"
          ],
          "name": "stdout"
        }
      ]
    },
    {
      "cell_type": "code",
      "metadata": {
        "id": "P8HVBynk5Axt"
      },
      "source": [
        "# construct the training image generator for data augmentation\n",
        "\"\"\"\n",
        "La classe ImageDataGenerator garantit que le modèle reçoit de nouvelles variations des images à chaque époque. \n",
        "Mais il ne renvoie que les images transformées et ne les ajoute pas au corpus original d'images. \n",
        "Si c'était effectivement le cas, alors le modèle verrait les images originales plusieurs fois, ce qui sur-adapterait certainement notre modèle.\n",
        "\n",
        "Un autre avantage d'ImageDataGenerator est qu'il nécessite une moindre utilisation de la mémoire. \n",
        "En effet, sans utiliser cette classe, nous chargeons toutes les images en même temps. Mais en l'utilisant, nous chargeons les images par lots, ce qui économise beaucoup de mémoire.\n",
        "\"\"\"\n",
        "aug = ImageDataGenerator(\n",
        "\trotation_range=20,\n",
        "\tzoom_range=0.15,\n",
        "\twidth_shift_range=0.2,\n",
        "\theight_shift_range=0.2,\n",
        "\tshear_range=0.15,\n",
        "\thorizontal_flip=True,\n",
        "\tfill_mode=\"nearest\")"
      ],
      "execution_count": null,
      "outputs": []
    },
    {
      "cell_type": "code",
      "metadata": {
        "id": "YYCan6QkUSfv"
      },
      "source": [
        "\n",
        "\n",
        "# load the MobileNetV2 network, ensuring the head FC layer sets are\n",
        "# left off\n",
        "baseModel = MobileNetV2(weights=\"imagenet\", include_top=False,\n",
        "                        input_shape=(224, 224, 3))\n",
        "\n",
        "# construct the head of the model that will be placed on top of the\n",
        "# the base model\n",
        "headModel = baseModel.output\n",
        "headModel = AveragePooling2D(pool_size=(7, 7))(headModel)\n",
        "headModel = Flatten(name=\"flatten\")(headModel)\n",
        "headModel = Dense(256, activation=\"relu\")(headModel)\n",
        "headModel = Dropout(0.25)(headModel)\n",
        "headModel = Dense(3, activation=\"softmax\")(headModel)\n",
        "\n",
        "# place the head FC model on top of the base model (this will become\n",
        "# the actual model we will train)\n",
        "model = Model(inputs=baseModel.input, outputs=headModel)\n",
        "\n",
        "# loop over all layers in the base model and freeze them so they will\n",
        "# *not* be updated during the first training process\n",
        "for layer in baseModel.layers:\n",
        "\tlayer.trainable = False"
      ],
      "execution_count": null,
      "outputs": []
    },
    {
      "cell_type": "code",
      "metadata": {
        "id": "ATU92ddD48B2"
      },
      "source": [
        "# initialize the initial learning rate, number of epochs to train for,\n",
        "# and batch size\n",
        "INIT_LR = 1e-4\n",
        "EPOCHS = 50\n",
        "BS = 32"
      ],
      "execution_count": null,
      "outputs": []
    },
    {
      "cell_type": "code",
      "metadata": {
        "id": "U7Bigd_QUcW4"
      },
      "source": [
        "#divide data into training and testing sets\n",
        "(trainX, testX, trainY, testY) = train_test_split(face_images, labels,\n",
        "    test_size=0.2, stratify=labels, random_state=42)\n",
        "\n",
        "\n"
      ],
      "execution_count": null,
      "outputs": []
    },
    {
      "cell_type": "code",
      "metadata": {
        "id": "3Zp82ReD4xLv"
      },
      "source": [
        "#Free some space.I did this tep as the notebook was running out of space while training\n",
        "#del targets,face_images,face_labels"
      ],
      "execution_count": null,
      "outputs": []
    },
    {
      "cell_type": "code",
      "metadata": {
        "id": "P1G5PYjQ4pov"
      },
      "source": [
        "# Définition de l'optimizer (avec quelques paramètres qu'il faudra adapter à ses besoins)\n",
        "#opt = RAdam(total_steps=5000, warmup_proportion=0.1, min_lr=INIT_LR,  name='lr')\n",
        "# essayer de mettre 10000.0\n",
        "\n",
        "\n",
        "\"\"\"\n",
        "opt = tfa.optimizers.RectifiedAdam(\n",
        "    lr=1e-3,\n",
        "    total_steps=5000,\n",
        "    warmup_proportion=0.1,\n",
        "    min_lr=INIT_LR,\n",
        ")\n",
        "\n",
        "ranger = tfa.optimizers.Lookahead(opt, sync_period=6, slow_step_size=0.5)\n",
        "\"\"\"\n",
        "opt = Adam(lr=INIT_LR, decay=INIT_LR / EPOCHS)\n",
        "\n"
      ],
      "execution_count": null,
      "outputs": []
    },
    {
      "cell_type": "code",
      "metadata": {
        "colab": {
          "base_uri": "https://localhost:8080/",
          "height": 69
        },
        "id": "fIJGTqqW7AP8",
        "outputId": "1e8f1475-7c05-4370-b8cd-4a3bdcdb806f"
      },
      "source": [
        "# Utilisation de l'optimizer dans un model (déjà configuré avant)\n",
        "model.compile(loss=\"categorical_crossentropy\", optimizer=opt, metrics=[\"accuracy\"])\n",
        "\"\"\"\n",
        "model.compile(\n",
        "    optimizer=opt,\n",
        "    loss=tfa.losses.TripletSemiHardLoss(),\n",
        "    metrics=[tfa.metrics.MultiLabelConfusionMatrix(num_classes=10)])\n",
        "\"\"\""
      ],
      "execution_count": null,
      "outputs": [
        {
          "output_type": "execute_result",
          "data": {
            "application/vnd.google.colaboratory.intrinsic+json": {
              "type": "string"
            },
            "text/plain": [
              "'\\nmodel.compile(\\n    optimizer=opt,\\n    loss=tfa.losses.TripletSemiHardLoss(),\\n    metrics=[tfa.metrics.MultiLabelConfusionMatrix(num_classes=10)])\\n'"
            ]
          },
          "metadata": {
            "tags": []
          },
          "execution_count": 56
        }
      ]
    },
    {
      "cell_type": "code",
      "metadata": {
        "colab": {
          "base_uri": "https://localhost:8080/"
        },
        "id": "K66FwB8DUmqw",
        "outputId": "a3845a4b-0e3d-450d-9521-7e7bbf18f007"
      },
      "source": [
        "\n",
        "# train the head of the network\n",
        "print(\"[INFO] training head...\")\n",
        "H = model.fit(\n",
        "\taug.flow(trainX, trainY, batch_size=BS),\n",
        "\n",
        "\tvalidation_data=(testX, testY),\n",
        "\n",
        "\tepochs=EPOCHS,\n",
        "\tclass_weight = {0:5 , 1:1, 2:10})\n"
      ],
      "execution_count": null,
      "outputs": [
        {
          "output_type": "stream",
          "text": [
            "[INFO] training head...\n",
            "Epoch 1/50\n",
            "145/145 [==============================] - 54s 358ms/step - loss: 6.5567 - accuracy: 0.4764 - val_loss: 0.9304 - val_accuracy: 0.5896\n",
            "Epoch 2/50\n",
            "145/145 [==============================] - 51s 348ms/step - loss: 5.7787 - accuracy: 0.5217 - val_loss: 0.9595 - val_accuracy: 0.5922\n",
            "Epoch 3/50\n",
            "145/145 [==============================] - 50s 346ms/step - loss: 5.4352 - accuracy: 0.5434 - val_loss: 0.9764 - val_accuracy: 0.5879\n",
            "Epoch 4/50\n",
            "145/145 [==============================] - 51s 349ms/step - loss: 5.1245 - accuracy: 0.5519 - val_loss: 0.9699 - val_accuracy: 0.6121\n",
            "Epoch 5/50\n",
            "145/145 [==============================] - 50s 343ms/step - loss: 5.3447 - accuracy: 0.5346 - val_loss: 0.9712 - val_accuracy: 0.6052\n",
            "Epoch 6/50\n",
            "145/145 [==============================] - 50s 348ms/step - loss: 5.0864 - accuracy: 0.5568 - val_loss: 0.9786 - val_accuracy: 0.5948\n",
            "Epoch 7/50\n",
            "145/145 [==============================] - 50s 345ms/step - loss: 5.0581 - accuracy: 0.5463 - val_loss: 0.9690 - val_accuracy: 0.6009\n",
            "Epoch 8/50\n",
            "145/145 [==============================] - 49s 340ms/step - loss: 4.8588 - accuracy: 0.5627 - val_loss: 0.9734 - val_accuracy: 0.5905\n",
            "Epoch 9/50\n",
            "145/145 [==============================] - 49s 340ms/step - loss: 4.9395 - accuracy: 0.5482 - val_loss: 0.9564 - val_accuracy: 0.6216\n",
            "Epoch 10/50\n",
            "145/145 [==============================] - 49s 339ms/step - loss: 4.7449 - accuracy: 0.5688 - val_loss: 0.9572 - val_accuracy: 0.6225\n",
            "Epoch 11/50\n",
            "145/145 [==============================] - 49s 338ms/step - loss: 4.7318 - accuracy: 0.5777 - val_loss: 0.9496 - val_accuracy: 0.6338\n",
            "Epoch 12/50\n",
            "145/145 [==============================] - 49s 338ms/step - loss: 4.5036 - accuracy: 0.5997 - val_loss: 0.9558 - val_accuracy: 0.6139\n",
            "Epoch 13/50\n",
            "145/145 [==============================] - 49s 337ms/step - loss: 4.6007 - accuracy: 0.5804 - val_loss: 0.9501 - val_accuracy: 0.6277\n",
            "Epoch 14/50\n",
            "145/145 [==============================] - 49s 337ms/step - loss: 4.6249 - accuracy: 0.5802 - val_loss: 0.9506 - val_accuracy: 0.6225\n",
            "Epoch 15/50\n",
            "145/145 [==============================] - 48s 334ms/step - loss: 4.3933 - accuracy: 0.5997 - val_loss: 0.9477 - val_accuracy: 0.6286\n",
            "Epoch 16/50\n",
            "145/145 [==============================] - 48s 332ms/step - loss: 4.5132 - accuracy: 0.5886 - val_loss: 0.9345 - val_accuracy: 0.6398\n",
            "Epoch 17/50\n",
            "145/145 [==============================] - 48s 334ms/step - loss: 4.3376 - accuracy: 0.6222 - val_loss: 0.9435 - val_accuracy: 0.6216\n",
            "Epoch 18/50\n",
            "145/145 [==============================] - 49s 337ms/step - loss: 4.4390 - accuracy: 0.5978 - val_loss: 0.9344 - val_accuracy: 0.6407\n",
            "Epoch 19/50\n",
            "145/145 [==============================] - 48s 332ms/step - loss: 4.4594 - accuracy: 0.6094 - val_loss: 0.9369 - val_accuracy: 0.6329\n",
            "Epoch 20/50\n",
            "145/145 [==============================] - 48s 330ms/step - loss: 4.3685 - accuracy: 0.6080 - val_loss: 0.9321 - val_accuracy: 0.6468\n",
            "Epoch 21/50\n",
            "145/145 [==============================] - 48s 333ms/step - loss: 4.3334 - accuracy: 0.6244 - val_loss: 0.9373 - val_accuracy: 0.6329\n",
            "Epoch 22/50\n",
            "145/145 [==============================] - 48s 328ms/step - loss: 4.3877 - accuracy: 0.6147 - val_loss: 0.9382 - val_accuracy: 0.6329\n",
            "Epoch 23/50\n",
            "145/145 [==============================] - 48s 329ms/step - loss: 4.4468 - accuracy: 0.5980 - val_loss: 0.9311 - val_accuracy: 0.6468\n",
            "Epoch 24/50\n",
            "145/145 [==============================] - 48s 329ms/step - loss: 4.4017 - accuracy: 0.6125 - val_loss: 0.9352 - val_accuracy: 0.6364\n",
            "Epoch 25/50\n",
            "145/145 [==============================] - 48s 329ms/step - loss: 4.2990 - accuracy: 0.6283 - val_loss: 0.9370 - val_accuracy: 0.6294\n",
            "Epoch 26/50\n",
            "145/145 [==============================] - 48s 328ms/step - loss: 4.3884 - accuracy: 0.6175 - val_loss: 0.9372 - val_accuracy: 0.6312\n",
            "Epoch 27/50\n",
            "145/145 [==============================] - 48s 328ms/step - loss: 4.3966 - accuracy: 0.6116 - val_loss: 0.9285 - val_accuracy: 0.6442\n",
            "Epoch 28/50\n",
            "145/145 [==============================] - 47s 327ms/step - loss: 4.2897 - accuracy: 0.6339 - val_loss: 0.9326 - val_accuracy: 0.6381\n",
            "Epoch 29/50\n",
            "145/145 [==============================] - 47s 327ms/step - loss: 4.3071 - accuracy: 0.6242 - val_loss: 0.9353 - val_accuracy: 0.6338\n",
            "Epoch 30/50\n",
            "145/145 [==============================] - 47s 327ms/step - loss: 4.3435 - accuracy: 0.6185 - val_loss: 0.9323 - val_accuracy: 0.6338\n",
            "Epoch 31/50\n",
            "145/145 [==============================] - 47s 327ms/step - loss: 4.2081 - accuracy: 0.6470 - val_loss: 0.9371 - val_accuracy: 0.6277\n",
            "Epoch 32/50\n",
            "145/145 [==============================] - 47s 327ms/step - loss: 4.2622 - accuracy: 0.6232 - val_loss: 0.9318 - val_accuracy: 0.6424\n",
            "Epoch 33/50\n",
            "145/145 [==============================] - 47s 327ms/step - loss: 4.3827 - accuracy: 0.6197 - val_loss: 0.9271 - val_accuracy: 0.6511\n",
            "Epoch 34/50\n",
            "145/145 [==============================] - 47s 325ms/step - loss: 4.2745 - accuracy: 0.6407 - val_loss: 0.9227 - val_accuracy: 0.6476\n",
            "Epoch 35/50\n",
            "145/145 [==============================] - 47s 326ms/step - loss: 4.1784 - accuracy: 0.6521 - val_loss: 0.9269 - val_accuracy: 0.6433\n",
            "Epoch 36/50\n",
            "145/145 [==============================] - 47s 326ms/step - loss: 4.2914 - accuracy: 0.6367 - val_loss: 0.9263 - val_accuracy: 0.6485\n",
            "Epoch 37/50\n",
            "145/145 [==============================] - 47s 327ms/step - loss: 4.2048 - accuracy: 0.6499 - val_loss: 0.9291 - val_accuracy: 0.6416\n",
            "Epoch 38/50\n",
            "145/145 [==============================] - 47s 327ms/step - loss: 4.2144 - accuracy: 0.6472 - val_loss: 0.9226 - val_accuracy: 0.6485\n",
            "Epoch 39/50\n",
            "145/145 [==============================] - 47s 326ms/step - loss: 4.1852 - accuracy: 0.6652 - val_loss: 0.9275 - val_accuracy: 0.6442\n",
            "Epoch 40/50\n",
            "145/145 [==============================] - 47s 326ms/step - loss: 4.2001 - accuracy: 0.6470 - val_loss: 0.9337 - val_accuracy: 0.6329\n",
            "Epoch 41/50\n",
            "145/145 [==============================] - 47s 326ms/step - loss: 4.2883 - accuracy: 0.6253 - val_loss: 0.9209 - val_accuracy: 0.6545\n",
            "Epoch 42/50\n",
            "145/145 [==============================] - 47s 327ms/step - loss: 4.2677 - accuracy: 0.6411 - val_loss: 0.9232 - val_accuracy: 0.6554\n",
            "Epoch 43/50\n",
            "145/145 [==============================] - 47s 327ms/step - loss: 4.3234 - accuracy: 0.6327 - val_loss: 0.9217 - val_accuracy: 0.6511\n",
            "Epoch 44/50\n",
            "145/145 [==============================] - 47s 329ms/step - loss: 4.2941 - accuracy: 0.6562 - val_loss: 0.9235 - val_accuracy: 0.6468\n",
            "Epoch 45/50\n",
            "145/145 [==============================] - 47s 323ms/step - loss: 4.0793 - accuracy: 0.6714 - val_loss: 0.9245 - val_accuracy: 0.6433\n",
            "Epoch 46/50\n",
            "145/145 [==============================] - 47s 324ms/step - loss: 4.1398 - accuracy: 0.6574 - val_loss: 0.9287 - val_accuracy: 0.6320\n",
            "Epoch 47/50\n",
            "145/145 [==============================] - 48s 331ms/step - loss: 4.1656 - accuracy: 0.6433 - val_loss: 0.9248 - val_accuracy: 0.6442\n",
            "Epoch 48/50\n",
            "145/145 [==============================] - 49s 339ms/step - loss: 4.1582 - accuracy: 0.6611 - val_loss: 0.9237 - val_accuracy: 0.6459\n",
            "Epoch 49/50\n",
            "145/145 [==============================] - 48s 331ms/step - loss: 4.1541 - accuracy: 0.6614 - val_loss: 0.9248 - val_accuracy: 0.6468\n",
            "Epoch 50/50\n",
            "145/145 [==============================] - 48s 333ms/step - loss: 4.1687 - accuracy: 0.6586 - val_loss: 0.9217 - val_accuracy: 0.6545\n"
          ],
          "name": "stdout"
        }
      ]
    },
    {
      "cell_type": "code",
      "metadata": {
        "colab": {
          "base_uri": "https://localhost:8080/"
        },
        "id": "mpJBmdhoUsb4",
        "outputId": "d850f167-0f77-48b8-aeb0-72ce5c8a2d09"
      },
      "source": [
        "# make predictions on the testing set\n",
        "print(\"[INFO] evaluating network...\")\n",
        "predIdxs = model.predict(testX, batch_size=BS)\n",
        "\n",
        "# for each image in the testing set we need to find the index of the\n",
        "# label with corresponding largest predicted probability\n",
        "predIdxs = np.argmax(predIdxs, axis=1)\n",
        "\n",
        "# show a nicely formatted classification report\n",
        "print(classification_report(testY.argmax(axis=1), predIdxs))"
      ],
      "execution_count": null,
      "outputs": [
        {
          "output_type": "stream",
          "text": [
            "[INFO] evaluating network...\n",
            "              precision    recall  f1-score   support\n",
            "\n",
            "           0       0.69      0.92      0.79       802\n",
            "           1       0.00      0.00      0.00        89\n",
            "           2       0.19      0.06      0.09       264\n",
            "\n",
            "    accuracy                           0.65      1155\n",
            "   macro avg       0.29      0.33      0.29      1155\n",
            "weighted avg       0.52      0.65      0.57      1155\n",
            "\n"
          ],
          "name": "stdout"
        },
        {
          "output_type": "stream",
          "text": [
            "/usr/local/lib/python3.6/dist-packages/sklearn/metrics/_classification.py:1272: UndefinedMetricWarning: Precision and F-score are ill-defined and being set to 0.0 in labels with no predicted samples. Use `zero_division` parameter to control this behavior.\n",
            "  _warn_prf(average, modifier, msg_start, len(result))\n"
          ],
          "name": "stderr"
        }
      ]
    },
    {
      "cell_type": "code",
      "metadata": {
        "colab": {
          "base_uri": "https://localhost:8080/",
          "height": 299
        },
        "id": "Im9EfZGMUwQX",
        "outputId": "2b888a65-1070-4c6c-927f-d9cf315f9ed3"
      },
      "source": [
        "# plot the training loss and accuracy\n",
        "\n",
        "\n",
        "N = EPOCHS\n",
        "plt.style.use(\"ggplot\")\n",
        "plt.figure()\n",
        "plt.plot(np.arange(0, N), H.history[\"loss\"], label=\"train_loss\")\n",
        "plt.plot(np.arange(0, N), H.history[\"val_loss\"], label=\"val_loss\")\n",
        "plt.plot(np.arange(0, N), H.history[\"accuracy\"], label=\"train_acc\")\n",
        "plt.plot(np.arange(0, N), H.history[\"val_accuracy\"], label=\"val_acc\")\n",
        "plt.title(\"Training Loss and Accuracy\")\n",
        "plt.xlabel(\"Epoch #\")\n",
        "plt.ylabel(\"Loss/Accuracy\")\n",
        "plt.legend(loc=\"lower left\")\n",
        "#plt.savefig(\"plot.png\")\n",
        "plt.show()"
      ],
      "execution_count": null,
      "outputs": [
        {
          "output_type": "display_data",
          "data": {
            "image/png": "[encoded data removed]",
            "text/plain": [
              "<Figure size 432x288 with 1 Axes>"
            ]
          },
          "metadata": {
            "tags": []
          }
        }
      ]
    },
    {
      "cell_type": "code",
      "metadata": {
        "colab": {
          "base_uri": "https://localhost:8080/"
        },
        "id": "vqHRWEwB9Snl",
        "outputId": "eda231e5-2588-4c7d-d633-81e84202ef30"
      },
      "source": [
        "# serialize the model to disk\n",
        "print(\"[INFO] saving mask detector model...\")\n",
        "from datetime import datetime\n",
        "now = datetime.now()\n",
        "dt_string = now.strftime(\"%Y_%m_%d_%H_%M_%S\")\n",
        "dt_string = \"mask_detector_Adam_\" + dt_string\n",
        "print(dt_string)\n",
        "model.save(dt_string + \".h5\")\n"
      ],
      "execution_count": null,
      "outputs": [
        {
          "output_type": "stream",
          "text": [
            "[INFO] saving mask detector model...\n",
            "mask_detector_Adam_2020_12_19_10_26_45\n"
          ],
          "name": "stdout"
        }
      ]
    },
    {
      "cell_type": "code",
      "metadata": {
        "colab": {
          "base_uri": "https://localhost:8080/",
          "height": 52
        },
        "id": "DASXgQ8gsJkx",
        "outputId": "e6c4a7d0-74ae-410e-99cc-4a29d4ad8a22"
      },
      "source": [
        "\"\"\"\n",
        "print('loading model...')\n",
        "model = tf.keras.models.load_model('mask_detector1.h5')\n",
        "\"\"\""
      ],
      "execution_count": null,
      "outputs": [
        {
          "output_type": "execute_result",
          "data": {
            "application/vnd.google.colaboratory.intrinsic+json": {
              "type": "string"
            },
            "text/plain": [
              "\"\\nprint('loading model...')\\nmodel = tf.keras.models.load_model('mask_detector1.h5')\\n\""
            ]
          },
          "metadata": {
            "tags": []
          },
          "execution_count": 23
        }
      ]
    },
    {
      "cell_type": "code",
      "metadata": {
        "colab": {
          "base_uri": "https://localhost:8080/",
          "height": 282
        },
        "id": "g9rdTWfLsLFf",
        "outputId": "21a57b80-f4a9-445a-ec56-706fa37405d4"
      },
      "source": [
        "#load the saved model RAdam\n",
        "\"\"\"\n",
        "print('loading model...')\n",
        "opt = tfa.optimizers.RectifiedAdam(\n",
        "    lr=1e-3,\n",
        "    total_steps=10000,\n",
        "    warmup_proportion=0.1,\n",
        "    min_lr=1e-5,\n",
        ")\n",
        "\n",
        "ranger = tfa.optimizers.Lookahead(opt, sync_period=6, slow_step_size=0.5, name='Lookahead',)\n",
        "\n",
        "model = tf.keras.models.load_model('mask_detector_2020_12_19_07_20.h5', custom_objects={'Lookahead': ranger})\n",
        "\n",
        "print('model loaded')\n",
        "\"\"\""
      ],
      "execution_count": null,
      "outputs": [
        {
          "output_type": "stream",
          "text": [
            "loading model...\n"
          ],
          "name": "stdout"
        },
        {
          "output_type": "error",
          "ename": "NameError",
          "evalue": "ignored",
          "traceback": [
            "\u001b[0;31m---------------------------------------------------------------------------\u001b[0m",
            "\u001b[0;31mNameError\u001b[0m                                 Traceback (most recent call last)",
            "\u001b[0;32m<ipython-input-24-5db002d6d89b>\u001b[0m in \u001b[0;36m<module>\u001b[0;34m()\u001b[0m\n\u001b[1;32m      9\u001b[0m \u001b[0mranger\u001b[0m \u001b[0;34m=\u001b[0m \u001b[0mtfa\u001b[0m\u001b[0;34m.\u001b[0m\u001b[0moptimizers\u001b[0m\u001b[0;34m.\u001b[0m\u001b[0mLookahead\u001b[0m\u001b[0;34m(\u001b[0m\u001b[0mopt\u001b[0m\u001b[0;34m,\u001b[0m \u001b[0msync_period\u001b[0m\u001b[0;34m=\u001b[0m\u001b[0;36m6\u001b[0m\u001b[0;34m,\u001b[0m \u001b[0mslow_step_size\u001b[0m\u001b[0;34m=\u001b[0m\u001b[0;36m0.5\u001b[0m\u001b[0;34m,\u001b[0m \u001b[0mname\u001b[0m\u001b[0;34m=\u001b[0m\u001b[0;34m'Lookahead'\u001b[0m\u001b[0;34m,\u001b[0m\u001b[0;34m)\u001b[0m\u001b[0;34m\u001b[0m\u001b[0;34m\u001b[0m\u001b[0m\n\u001b[1;32m     10\u001b[0m \u001b[0;34m\u001b[0m\u001b[0m\n\u001b[0;32m---> 11\u001b[0;31m \u001b[0mmodel\u001b[0m \u001b[0;34m=\u001b[0m \u001b[0mtf\u001b[0m\u001b[0;34m.\u001b[0m\u001b[0mkeras\u001b[0m\u001b[0;34m.\u001b[0m\u001b[0mmodels\u001b[0m\u001b[0;34m.\u001b[0m\u001b[0mload_model\u001b[0m\u001b[0;34m(\u001b[0m\u001b[0;34m'mask_detector_2020_12_19_07_20.h5'\u001b[0m\u001b[0;34m,\u001b[0m \u001b[0mcustom_objects\u001b[0m\u001b[0;34m=\u001b[0m\u001b[0;34m{\u001b[0m\u001b[0;34m'Lookahead'\u001b[0m\u001b[0;34m:\u001b[0m \u001b[0mranger\u001b[0m\u001b[0;34m}\u001b[0m\u001b[0;34m)\u001b[0m\u001b[0;34m\u001b[0m\u001b[0;34m\u001b[0m\u001b[0m\n\u001b[0m\u001b[1;32m     12\u001b[0m \u001b[0mprint\u001b[0m\u001b[0;34m(\u001b[0m\u001b[0;34m'model loaded'\u001b[0m\u001b[0;34m)\u001b[0m\u001b[0;34m\u001b[0m\u001b[0;34m\u001b[0m\u001b[0m\n",
            "\u001b[0;31mNameError\u001b[0m: name 'tf' is not defined"
          ]
        }
      ]
    },
    {
      "cell_type": "code",
      "metadata": {
        "id": "1d3_xLn99Bn4"
      },
      "source": [
        "#load the saved model\n",
        "import keras\n",
        "model = keras.models.load_model(dt_string + \".h5\")"
      ],
      "execution_count": null,
      "outputs": []
    },
    {
      "cell_type": "code",
      "metadata": {
        "colab": {
          "base_uri": "https://localhost:8080/"
        },
        "id": "9eF_dCAoWwn5",
        "outputId": "e908f4f6-b058-4e4f-d4cf-ed5575458bb3"
      },
      "source": [
        "\n",
        "#train the saved model again \n",
        "print(\"[INFO] compiling model...\")\n",
        "opt = Adam(lr=INIT_LR, decay=INIT_LR / EPOCHS)\n",
        "model.compile(loss=\"categorical_crossentropy\", optimizer=opt,\n",
        "\tmetrics=[\"accuracy\"])"
      ],
      "execution_count": null,
      "outputs": [
        {
          "output_type": "stream",
          "text": [
            "[INFO] compiling model...\n"
          ],
          "name": "stdout"
        }
      ]
    },
    {
      "cell_type": "code",
      "metadata": {
        "colab": {
          "background_save": true,
          "base_uri": "https://localhost:8080/"
        },
        "id": "VG6gSS20WsTo",
        "outputId": "26084b26-abbc-49bb-df54-5e927a173d16"
      },
      "source": [
        "\n",
        "\n",
        "# train the head of the network\n",
        "print(\"[INFO] training head...\")\n",
        "H = model.fit(\n",
        "\taug.flow(trainX, trainY, batch_size=BS),\n",
        "\tvalidation_data=(testX, testY),\n",
        "\tepochs=EPOCHS,\n",
        "    class_weight = {0:5 , 1:1, 2:10})\n",
        "\n"
      ],
      "execution_count": null,
      "outputs": [
        {
          "output_type": "stream",
          "text": [
            "[INFO] training head...\n",
            "Epoch 1/50\n",
            "145/145 [==============================] - 51s 337ms/step - loss: 4.1853 - accuracy: 0.6607 - val_loss: 0.9219 - val_accuracy: 0.6537\n",
            "Epoch 2/50\n",
            "145/145 [==============================] - 48s 333ms/step - loss: 4.1421 - accuracy: 0.6646 - val_loss: 0.9249 - val_accuracy: 0.6485\n",
            "Epoch 3/50\n",
            "145/145 [==============================] - 48s 329ms/step - loss: 4.1762 - accuracy: 0.6556 - val_loss: 0.9243 - val_accuracy: 0.6459\n",
            "Epoch 4/50\n",
            "145/145 [==============================] - 48s 329ms/step - loss: 4.1257 - accuracy: 0.6613 - val_loss: 0.9270 - val_accuracy: 0.6494\n",
            "Epoch 5/50\n",
            "145/145 [==============================] - 47s 327ms/step - loss: 4.1770 - accuracy: 0.6535 - val_loss: 0.9270 - val_accuracy: 0.6433\n",
            "Epoch 6/50\n",
            "145/145 [==============================] - 48s 328ms/step - loss: 4.1588 - accuracy: 0.6683 - val_loss: 0.9221 - val_accuracy: 0.6459\n",
            "Epoch 7/50\n",
            "145/145 [==============================] - 47s 327ms/step - loss: 4.1377 - accuracy: 0.6675 - val_loss: 0.9240 - val_accuracy: 0.6442\n",
            "Epoch 8/50\n",
            "145/145 [==============================] - 47s 326ms/step - loss: 4.0806 - accuracy: 0.6633 - val_loss: 0.9260 - val_accuracy: 0.6433\n",
            "Epoch 9/50\n",
            "145/145 [==============================] - 48s 332ms/step - loss: 4.2586 - accuracy: 0.6500 - val_loss: 0.9194 - val_accuracy: 0.6554\n",
            "Epoch 10/50\n",
            "145/145 [==============================] - 49s 339ms/step - loss: 4.1225 - accuracy: 0.6677 - val_loss: 0.9186 - val_accuracy: 0.6580\n",
            "Epoch 11/50\n",
            "145/145 [==============================] - 49s 341ms/step - loss: 4.0368 - accuracy: 0.6812 - val_loss: 0.9204 - val_accuracy: 0.6502\n",
            "Epoch 12/50\n",
            "145/145 [==============================] - 49s 335ms/step - loss: 4.2270 - accuracy: 0.6394 - val_loss: 0.9226 - val_accuracy: 0.6485\n",
            "Epoch 13/50\n",
            "145/145 [==============================] - 49s 336ms/step - loss: 4.1700 - accuracy: 0.6613 - val_loss: 0.9222 - val_accuracy: 0.6502\n",
            "Epoch 14/50\n",
            "145/145 [==============================] - 48s 334ms/step - loss: 4.1133 - accuracy: 0.6637 - val_loss: 0.9245 - val_accuracy: 0.6433\n",
            "Epoch 15/50\n",
            "145/145 [==============================] - 49s 335ms/step - loss: 4.0894 - accuracy: 0.6721 - val_loss: 0.9258 - val_accuracy: 0.6450\n",
            "Epoch 16/50\n",
            "145/145 [==============================] - 48s 331ms/step - loss: 4.1327 - accuracy: 0.6560 - val_loss: 0.9218 - val_accuracy: 0.6502\n",
            "Epoch 17/50\n",
            "145/145 [==============================] - 48s 332ms/step - loss: 4.1889 - accuracy: 0.6702 - val_loss: 0.9211 - val_accuracy: 0.6494\n",
            "Epoch 18/50\n",
            "145/145 [==============================] - 48s 330ms/step - loss: 4.2325 - accuracy: 0.6502 - val_loss: 0.9195 - val_accuracy: 0.6597\n",
            "Epoch 19/50\n",
            "145/145 [==============================] - 48s 333ms/step - loss: 4.0873 - accuracy: 0.6696 - val_loss: 0.9228 - val_accuracy: 0.6468\n",
            "Epoch 20/50\n",
            "145/145 [==============================] - 48s 330ms/step - loss: 4.0584 - accuracy: 0.6683 - val_loss: 0.9268 - val_accuracy: 0.6407\n",
            "Epoch 21/50\n",
            "145/145 [==============================] - 48s 329ms/step - loss: 3.9179 - accuracy: 0.6916 - val_loss: 0.9283 - val_accuracy: 0.6364\n",
            "Epoch 22/50\n",
            "145/145 [==============================] - 48s 332ms/step - loss: 4.0714 - accuracy: 0.6731 - val_loss: 0.9246 - val_accuracy: 0.6381\n",
            "Epoch 23/50\n",
            "145/145 [==============================] - 48s 330ms/step - loss: 4.0448 - accuracy: 0.6828 - val_loss: 0.9277 - val_accuracy: 0.6364\n",
            "Epoch 24/50\n",
            "145/145 [==============================] - 48s 328ms/step - loss: 4.0668 - accuracy: 0.6628 - val_loss: 0.9247 - val_accuracy: 0.6416\n",
            "Epoch 25/50\n",
            "145/145 [==============================] - 48s 329ms/step - loss: 4.0661 - accuracy: 0.6568 - val_loss: 0.9245 - val_accuracy: 0.6433\n",
            "Epoch 26/50\n",
            "145/145 [==============================] - 47s 327ms/step - loss: 4.1560 - accuracy: 0.6610 - val_loss: 0.9230 - val_accuracy: 0.6494\n",
            "Epoch 27/50\n",
            "145/145 [==============================] - 48s 332ms/step - loss: 4.0622 - accuracy: 0.6748 - val_loss: 0.9220 - val_accuracy: 0.6459\n",
            "Epoch 28/50\n",
            "145/145 [==============================] - 48s 331ms/step - loss: 4.0768 - accuracy: 0.6688 - val_loss: 0.9259 - val_accuracy: 0.6424\n",
            "Epoch 29/50\n",
            "145/145 [==============================] - 48s 331ms/step - loss: 4.0196 - accuracy: 0.6794 - val_loss: 0.9275 - val_accuracy: 0.6398\n",
            "Epoch 30/50\n",
            "145/145 [==============================] - 49s 337ms/step - loss: 4.0706 - accuracy: 0.6733 - val_loss: 0.9260 - val_accuracy: 0.6398\n",
            "Epoch 31/50\n",
            "145/145 [==============================] - 47s 327ms/step - loss: 3.9781 - accuracy: 0.6906 - val_loss: 0.9266 - val_accuracy: 0.6390\n",
            "Epoch 32/50\n",
            "145/145 [==============================] - 48s 328ms/step - loss: 4.0517 - accuracy: 0.6642 - val_loss: 0.9273 - val_accuracy: 0.6381\n",
            "Epoch 33/50\n",
            "145/145 [==============================] - 47s 327ms/step - loss: 3.9705 - accuracy: 0.6837 - val_loss: 0.9247 - val_accuracy: 0.6390\n",
            "Epoch 34/50\n",
            "145/145 [==============================] - 48s 329ms/step - loss: 4.0475 - accuracy: 0.6707 - val_loss: 0.9233 - val_accuracy: 0.6442\n",
            "Epoch 35/50\n",
            "145/145 [==============================] - 48s 329ms/step - loss: 4.0620 - accuracy: 0.6652 - val_loss: 0.9207 - val_accuracy: 0.6407\n",
            "Epoch 36/50\n",
            "145/145 [==============================] - 48s 328ms/step - loss: 4.0607 - accuracy: 0.6762 - val_loss: 0.9252 - val_accuracy: 0.6390\n",
            "Epoch 37/50\n",
            "145/145 [==============================] - 47s 327ms/step - loss: 4.0023 - accuracy: 0.6849 - val_loss: 0.9273 - val_accuracy: 0.6346\n",
            "Epoch 38/50\n",
            "145/145 [==============================] - 48s 329ms/step - loss: 4.1630 - accuracy: 0.6513 - val_loss: 0.9182 - val_accuracy: 0.6519\n",
            "Epoch 39/50\n",
            "145/145 [==============================] - 48s 329ms/step - loss: 4.0511 - accuracy: 0.6825 - val_loss: 0.9198 - val_accuracy: 0.6494\n",
            "Epoch 40/50\n",
            "145/145 [==============================] - 47s 327ms/step - loss: 3.9536 - accuracy: 0.6901 - val_loss: 0.9229 - val_accuracy: 0.6416\n",
            "Epoch 41/50\n",
            "145/145 [==============================] - 48s 328ms/step - loss: 4.0802 - accuracy: 0.6585 - val_loss: 0.9214 - val_accuracy: 0.6519\n",
            "Epoch 42/50\n",
            "145/145 [==============================] - 47s 326ms/step - loss: 3.9220 - accuracy: 0.6958 - val_loss: 0.9253 - val_accuracy: 0.6450\n",
            "Epoch 43/50\n",
            "145/145 [==============================] - 47s 325ms/step - loss: 4.0374 - accuracy: 0.6710 - val_loss: 0.9248 - val_accuracy: 0.6442\n",
            "Epoch 44/50\n",
            "145/145 [==============================] - 48s 328ms/step - loss: 4.0900 - accuracy: 0.6707 - val_loss: 0.9245 - val_accuracy: 0.6450\n",
            "Epoch 45/50\n",
            "145/145 [==============================] - 47s 325ms/step - loss: 3.9905 - accuracy: 0.6894 - val_loss: 0.9230 - val_accuracy: 0.6459\n",
            "Epoch 46/50\n",
            "145/145 [==============================] - 47s 327ms/step - loss: 4.0747 - accuracy: 0.6727 - val_loss: 0.9200 - val_accuracy: 0.6494\n",
            "Epoch 47/50\n",
            "145/145 [==============================] - 47s 327ms/step - loss: 4.0516 - accuracy: 0.6641 - val_loss: 0.9212 - val_accuracy: 0.6424\n",
            "Epoch 48/50\n",
            "145/145 [==============================] - 47s 327ms/step - loss: 3.9193 - accuracy: 0.6970 - val_loss: 0.9253 - val_accuracy: 0.6398\n",
            "Epoch 49/50\n",
            "145/145 [==============================] - 47s 326ms/step - loss: 4.0313 - accuracy: 0.6822 - val_loss: 0.9200 - val_accuracy: 0.6485\n",
            "Epoch 50/50\n",
            "145/145 [==============================] - 47s 327ms/step - loss: 3.9520 - accuracy: 0.6800 - val_loss: 0.9265 - val_accuracy: 0.6407\n"
          ],
          "name": "stdout"
        }
      ]
    },
    {
      "cell_type": "code",
      "metadata": {
        "colab": {
          "background_save": true
        },
        "id": "BtosBF9ZXNyo",
        "outputId": "38800026-6c48-449b-b5d8-33439851cb18"
      },
      "source": [
        "#Evaluate the model again\n",
        "print(\"[INFO] evaluating network...\")\n",
        "predIdxs = model.predict(testX, batch_size=32)\n",
        "\n",
        "# for each image in the testing set we need to find the index of the\n",
        "# label with corresponding largest predicted probability\n",
        "predIdxs = np.argmax(predIdxs, axis=1)\n",
        "\n",
        "# show a nicely formatted classification report\n",
        "print(classification_report(testY.argmax(axis=1), predIdxs))\n"
      ],
      "execution_count": null,
      "outputs": [
        {
          "output_type": "stream",
          "text": [
            "[INFO] evaluating network...\n",
            "              precision    recall  f1-score   support\n",
            "\n",
            "           0       0.69      0.90      0.78       802\n",
            "           1       0.00      0.00      0.00        89\n",
            "           2       0.18      0.08      0.11       264\n",
            "\n",
            "    accuracy                           0.64      1155\n",
            "   macro avg       0.29      0.32      0.30      1155\n",
            "weighted avg       0.52      0.64      0.57      1155\n",
            "\n"
          ],
          "name": "stdout"
        },
        {
          "output_type": "stream",
          "text": [
            "/usr/local/lib/python3.6/dist-packages/sklearn/metrics/_classification.py:1272: UndefinedMetricWarning: Precision and F-score are ill-defined and being set to 0.0 in labels with no predicted samples. Use `zero_division` parameter to control this behavior.\n",
            "  _warn_prf(average, modifier, msg_start, len(result))\n"
          ],
          "name": "stderr"
        }
      ]
    },
    {
      "cell_type": "code",
      "metadata": {
        "colab": {
          "background_save": true
        },
        "id": "xbz7lDVy9tMf",
        "outputId": "3d7be5c2-3688-4a1e-fb6d-4e8411dacc1e"
      },
      "source": [
        "\n",
        "# plot the training loss and accuracy\n",
        "N = EPOCHS\n",
        "plt.style.use(\"ggplot\")\n",
        "plt.figure()\n",
        "plt.plot(np.arange(0, N), H.history[\"loss\"], label=\"train_loss\")\n",
        "plt.plot(np.arange(0, N), H.history[\"val_loss\"], label=\"val_loss\")\n",
        "plt.plot(np.arange(0, N), H.history[\"accuracy\"], label=\"train_acc\")\n",
        "plt.plot(np.arange(0, N), H.history[\"val_accuracy\"], label=\"val_acc\")\n",
        "plt.title(\"Training Loss and Accuracy\")\n",
        "plt.xlabel(\"Epoch #\")\n",
        "plt.ylabel(\"Loss/Accuracy\")\n",
        "plt.legend(loc=\"lower left\")\n",
        "plt.savefig(dt_string + \".png\")\n",
        "plt.show()\n"
      ],
      "execution_count": null,
      "outputs": [
        {
          "output_type": "display_data",
          "data": {
            "image/png": "[encoded data removed]",
            "text/plain": [
              "<Figure size 432x288 with 1 Axes>"
            ]
          },
          "metadata": {
            "tags": []
          }
        }
      ]
    },
    {
      "cell_type": "code",
      "metadata": {
        "colab": {
          "background_save": true
        },
        "id": "0_F8gT6F9yZG",
        "outputId": "1590d471-5c32-4e37-ddf5-93bf6537f285"
      },
      "source": [
        "# serialize the model to disk\n",
        "print(\"[INFO] saving mask detector model...\")\n",
        "\n",
        "dt_string = dt_string + \"_V2\"\n",
        "print(dt_string)\n",
        "model.save(dt_string+\".h5\")"
      ],
      "execution_count": null,
      "outputs": [
        {
          "output_type": "stream",
          "text": [
            "[INFO] saving mask detector model...\n",
            "mask_detector_Adam_2020_12_19_10_26_45_V2\n"
          ],
          "name": "stdout"
        }
      ]
    }
  ]
}