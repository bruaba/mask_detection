{
  "nbformat": 4,
  "nbformat_minor": 0,
  "metadata": {
    "accelerator": "GPU",
    "colab": {
      "name": "Projet_Mask.ipynb",
      "provenance": [],
      "collapsed_sections": [],
      "mount_file_id": "1EX_eKMHP6zjFUp_c3aD7Q3aDwQNZOnHi",
      "authorship_tag": "ABX9TyOP15ezfSNg7sBfKGuO1AM5",
      "include_colab_link": true
    },
    "kernelspec": {
      "display_name": "Python 3",
      "name": "python3"
    }
  },
  "cells": [
    {
      "cell_type": "markdown",
      "metadata": {
        "id": "view-in-github",
        "colab_type": "text"
      },
      "source": [
        "<a href=\"https://colab.research.google.com/github/bruaba/mask_detection/blob/main/Projet_Mask.ipynb\" target=\"_parent\"><img src=\"https://colab.research.google.com/assets/colab-badge.svg\" alt=\"Open In Colab\"/></a>"
      ]
    },
    {
      "cell_type": "code",
      "metadata": {
        "id": "Un-gY1PjvoK8"
      },
      "source": [
        "# -*- coding: utf-8 -*-\n",
        "\"\"\"\n",
        "Created on Sun Nov 29 18:40:11 2020\n",
        "\n",
        "@author: cheikh\n",
        "\"\"\"\n",
        "#libraries\n",
        "\n",
        "import numpy as np\n",
        "import pandas as pd\n",
        "import matplotlib.pyplot as plt\n",
        "import cv2\n",
        "import random as rand\n",
        "import keras\n",
        "import tensorflow_addons as tfa\n",
        "from tensorflow.keras.applications import MobileNetV2\n",
        "from tensorflow.keras.layers import AveragePooling2D\n",
        "from tensorflow.keras.layers import Dropout\n",
        "from tensorflow.keras.layers import BatchNormalization\n",
        "from tensorflow.keras.layers import Flatten\n",
        "from tensorflow.keras.layers import Dense\n",
        "from tensorflow.keras.layers import Input\n",
        "from tensorflow.keras.models import Model\n",
        "from tensorflow.keras.optimizers import Adam\n",
        "from tensorflow.keras.applications.mobilenet_v2 import preprocess_input\n",
        "from tensorflow.keras.preprocessing.image import ImageDataGenerator\n",
        "from tensorflow.keras.preprocessing.image import img_to_array\n",
        "from tensorflow.keras.preprocessing.image import load_img\n",
        "from tensorflow.keras.utils import to_categorical\n",
        "from sklearn.preprocessing import LabelEncoder\n",
        "from sklearn.preprocessing import LabelBinarizer\n",
        "from sklearn.model_selection import train_test_split\n",
        "from sklearn.metrics import classification_report\n",
        "#from keras_radam import RAdam\n",
        "from imutils import paths\n",
        "from bs4 import BeautifulSoup"
      ],
      "execution_count": null,
      "outputs": []
    },
    {
      "cell_type": "code",
      "metadata": {
        "id": "CsDZaMY-wlPG"
      },
      "source": [
        "def generate_box(obj):  \n",
        "    xmin = int(float(obj.find('xmin').text))\n",
        "    ymin = int(float(obj.find('ymin').text))\n",
        "    xmax = int(float(obj.find('xmax').text))\n",
        "    ymax = int(float(obj.find('ymax').text))\n",
        "    \n",
        "    return [xmin, ymin, xmax, ymax]\n",
        "\n",
        "#This function will give label assciated with each label and convert them to numbers\n",
        "def generate_label(obj):\n",
        "    if obj.find('name').text == \"with_mask\":\n",
        "        return 1\n",
        "    elif obj.find('name').text == \"mask_weared_incorrect\":\n",
        "        return 2\n",
        "    elif obj.find('name').text == \"without_mask\":\n",
        "        return 3\n",
        "    return 0\n",
        "\n",
        "#Using in this main function we parse the annotations file and get the objects out from them\n",
        "# Also we use the above two functions here \n",
        "def generate_target(image_id, file): \n",
        "    with open(file) as f:\n",
        "        data = f.read()\n",
        "        soup = BeautifulSoup(data, 'xml')\n",
        "        objects = soup.find_all('object')\n",
        "\n",
        "        num_objs = len(objects)\n",
        "\n",
        "        boxes = []\n",
        "        labels = []\n",
        "        for i in objects:\n",
        "            boxes.append(generate_box(i))\n",
        "            labels.append(generate_label(i))\n",
        "            \n",
        "        boxes=np.array(boxes)\n",
        "        labels=np.array(labels)\n",
        "\n",
        "        img_id = np.array(image_id)\n",
        "    # Annotation is in dictionary format\n",
        "        target = {}\n",
        "        target[\"boxes\"] = boxes\n",
        "        target[\"labels\"] = labels\n",
        "        \n",
        "        return (target,num_objs)"
      ],
      "execution_count": null,
      "outputs": []
    },
    {
      "cell_type": "code",
      "metadata": {
        "colab": {
          "base_uri": "https://localhost:8080/"
        },
        "id": "9Vn5dLPrwqwx",
        "outputId": "473141aa-fe8b-4218-9b42-7b1a1cba0919"
      },
      "source": [
        "import os\n",
        "os.chdir(\"/content/drive/MyDrive/Colab Notebooks\")\n",
        "#!ls\n",
        "\n",
        "imgs = list(sorted(os.listdir(\"MaskTrainDataset/JPEGImages/\")))\n",
        "labels = list(sorted(os.listdir(\"MaskTrainDataset/Annotations/\")))\n",
        "#nombre d'images et de labels\n",
        "print(len(imgs))\n",
        "print(len(labels))"
      ],
      "execution_count": null,
      "outputs": [
        {
          "output_type": "stream",
          "text": [
            "2655\n",
            "2655\n"
          ],
          "name": "stdout"
        }
      ]
    },
    {
      "cell_type": "code",
      "metadata": {
        "id": "5dm5bJc3T475"
      },
      "source": [
        "# Here we use the above functions and save results in lists\n",
        "targets=[]#store coordinates\n",
        "numobjs=[]#stores number of faces in each image\n",
        "#run the loop for number of images we have\n",
        "\n",
        "i=0\n",
        "for dirname, _, filenames in os.walk('MaskTrainDataset/Annotations/'):\n",
        "    for filename in filenames:\n",
        "        target, numobj = generate_target(i, os.path.join(dirname, filename))\n",
        "        targets.append(target)\n",
        "        numobjs.append(numobj)\n",
        "        i+=1\n",
        "\n"
      ],
      "execution_count": null,
      "outputs": []
    },
    {
      "cell_type": "code",
      "metadata": {
        "id": "s2A1ou6Cyr6v"
      },
      "source": [
        "i=0\n",
        "face_images=[]\n",
        "face_labels=[]\n",
        "\n",
        "\n",
        "for dirname, _, filenames in os.walk('MaskTrainDataset/JPEGImages/'):\n",
        "    for filename in filenames:\n",
        "        img_path = os.path.join(dirname, filename)\n",
        "        img = cv2.imread(img_path)\n",
        "        for j in range(numobjs[i]):\n",
        "            locs = (targets[i]['boxes'][j])\n",
        "            img1 = img[int(locs[1]):int(locs[3]), int(locs[0]):int(locs[2])]       \n",
        "            try:\n",
        "                img1 = cv2.resize(img1, (224, 224))\n",
        "                img1 = img_to_array(img1)\n",
        "                img1 = preprocess_input(img1)\n",
        "                face_images.append(img1)\n",
        "                face_labels.append(targets[i]['labels'][j])\n",
        "            except cv2.error:\n",
        "                continue\n",
        "            \n",
        "        i+=1\n",
        "face_images= np.array(face_images, dtype=\"float32\")\n",
        "face_labels = np.array(face_labels)\n"
      ],
      "execution_count": null,
      "outputs": []
    },
    {
      "cell_type": "code",
      "metadata": {
        "id": "I49lrVD_5GGR"
      },
      "source": [
        "\n",
        "print(len(face_labels))\n",
        "print(len(face_images))"
      ],
      "execution_count": null,
      "outputs": []
    },
    {
      "cell_type": "code",
      "metadata": {
        "colab": {
          "base_uri": "https://localhost:8080/"
        },
        "id": "OfQkzLrKUIxa",
        "outputId": "ae63e0a4-1b43-42bf-8b78-8ba80d842a33"
      },
      "source": [
        "import numpy as np\n",
        "unique, counts = np.unique(face_labels, return_counts=True)\n",
        "print(dict(zip(unique, counts)))"
      ],
      "execution_count": null,
      "outputs": [
        {
          "output_type": "stream",
          "text": [
            "{1: 4007, 2: 444, 3: 1322}\n"
          ],
          "name": "stdout"
        }
      ]
    },
    {
      "cell_type": "code",
      "metadata": {
        "colab": {
          "base_uri": "https://localhost:8080/"
        },
        "id": "KvKGgPhYUM9q",
        "outputId": "40bc3c96-a6ec-4305-8ccf-cc435053157e"
      },
      "source": [
        "#Encode the labels in one hot encode form\n",
        "\n",
        "#c'est pour transformer les données non numerique en numerique\n",
        "#ici les labels\n",
        "#https://stackoverrun.com/fr/q/12291556\n",
        "\n",
        "lb = LabelEncoder()\n",
        "labels = lb.fit_transform(face_labels)\n",
        "labels = to_categorical(labels)\n",
        "print(labels)"
      ],
      "execution_count": null,
      "outputs": [
        {
          "output_type": "stream",
          "text": [
            "[[1. 0. 0.]\n",
            " [1. 0. 0.]\n",
            " [1. 0. 0.]\n",
            " ...\n",
            " [0. 1. 0.]\n",
            " [1. 0. 0.]\n",
            " [1. 0. 0.]]\n"
          ],
          "name": "stdout"
        }
      ]
    },
    {
      "cell_type": "code",
      "metadata": {
        "id": "P8HVBynk5Axt"
      },
      "source": [
        "# construct the training image generator for data augmentation\n",
        "\"\"\"\n",
        "La classe ImageDataGenerator garantit que le modèle reçoit de nouvelles variations des images à chaque époque. \n",
        "Mais il ne renvoie que les images transformées et ne les ajoute pas au corpus original d'images. \n",
        "Si c'était effectivement le cas, alors le modèle verrait les images originales plusieurs fois, ce qui sur-adapterait certainement notre modèle.\n",
        "\n",
        "Un autre avantage d'ImageDataGenerator est qu'il nécessite une moindre utilisation de la mémoire. \n",
        "En effet, sans utiliser cette classe, nous chargeons toutes les images en même temps. Mais en l'utilisant, nous chargeons les images par lots, ce qui économise beaucoup de mémoire.\n",
        "\"\"\"\n",
        "#https://www.analyticsvidhya.com/blog/2020/08/image-augmentation-on-the-fly-using-keras-imagedatagenerator/\n",
        "aug = ImageDataGenerator(\n",
        "\trotation_range=30,\n",
        "\tzoom_range=0.3,\n",
        "\twidth_shift_range=0.2,\n",
        "\theight_shift_range=0.2,\n",
        "\tshear_range=0.15,\n",
        "\thorizontal_flip=True,\n",
        "  vertical_flip = True,\n",
        "  brightness_range = [ 0.4 , 1.5 ],\n",
        "\tfill_mode=\"nearest\")"
      ],
      "execution_count": null,
      "outputs": []
    },
    {
      "cell_type": "code",
      "metadata": {
        "id": "YYCan6QkUSfv"
      },
      "source": [
        "\n",
        "\n",
        "# load the MobileNetV2 network, ensuring the head FC layer sets are\n",
        "# left off\n",
        "#Notamment, MobileNetV2 + SSDLite est 20 fois plus efficace et 10 fois plus petit, tout en surpassant YOLOv2 sur l'ensemble de données COCO.\n",
        "#https://towardsdatascience.com/review-mobilenetv2-light-weight-model-image-classification-8febb490e61c\n",
        "\n",
        "#https://keras.io/api/applications/mobilenet/\n",
        "\n",
        "baseModel = MobileNetV2(weights=\"imagenet\", include_top=False,\n",
        "                        input_shape=(224, 224, 3))\n",
        "\n",
        "# construct the head of the model that will be placed on top of the\n",
        "# the base model\n",
        "headModel = baseModel.output\n",
        "#https://www.machinecurve.com/index.php/2020/01/30/what-are-max-pooling-average-pooling-global-max-pooling-and-global-average-pooling/\n",
        "headModel = AveragePooling2D(pool_size=(7, 7))(headModel)\n",
        "#appaltir\n",
        "headModel = Flatten(name=\"flatten\")(headModel)\n",
        "headModel = Dense(256, activation=\"relu\")(headModel)\n",
        "#supprimer certain noeud\n",
        "headModel = Dropout(0.2)(headModel)\n",
        "headModel = Dense(3, activation=\"sigmoid\")(headModel)\n",
        "\n",
        "# place the head FC model on top of the base model (this will become\n",
        "# the actual model we will train)\n",
        "model = Model(inputs=baseModel.input, outputs=headModel)\n",
        "\n",
        "# loop over all layers in the base model and freeze them so they will\n",
        "# *not* be updated during the first training process\n",
        "for layer in baseModel.layers:\n",
        "\tlayer.trainable = False"
      ],
      "execution_count": null,
      "outputs": []
    },
    {
      "cell_type": "code",
      "metadata": {
        "id": "ATU92ddD48B2"
      },
      "source": [
        "# initialize the initial learning rate, number of epochs to train for,\n",
        "# and batch size\n",
        "INIT_LR = 1e-4\n",
        "EPOCHS = 50\n",
        "BS = 32"
      ],
      "execution_count": null,
      "outputs": []
    },
    {
      "cell_type": "code",
      "metadata": {
        "id": "U7Bigd_QUcW4"
      },
      "source": [
        "#divide data into training and testing sets\n",
        "(trainX, testX, trainY, testY) = train_test_split(face_images, labels,\n",
        "    test_size=0.2, stratify=labels, random_state=42)\n",
        "\n",
        "\n"
      ],
      "execution_count": null,
      "outputs": []
    },
    {
      "cell_type": "code",
      "metadata": {
        "id": "3Zp82ReD4xLv"
      },
      "source": [
        "#Free some space.I did this tep as the notebook was running out of space while training\n",
        "#del targets,face_images,face_labels"
      ],
      "execution_count": null,
      "outputs": []
    },
    {
      "cell_type": "code",
      "metadata": {
        "id": "P1G5PYjQ4pov"
      },
      "source": [
        "# Définition de l'optimizer (avec quelques paramètres qu'il faudra adapter à ses besoins)\n",
        "#opt = RAdam(total_steps=5000, warmup_proportion=0.1, min_lr=INIT_LR,  name='lr')\n",
        "# essayer de mettre 10000.0\n",
        "\n",
        "\n",
        "\"\"\"\n",
        "opt = tfa.optimizers.RectifiedAdam(\n",
        "    lr=1e-3,\n",
        "    total_steps=5000,\n",
        "    warmup_proportion=0.1,\n",
        "    min_lr=INIT_LR,\n",
        ")\n",
        "\n",
        "ranger = tfa.optimizers.Lookahead(opt, sync_period=6, slow_step_size=0.5)\n",
        "\"\"\"\n",
        "\n",
        "#https://www.pyimagesearch.com/2019/10/07/is-rectified-adam-actually-better-than-adam/\n",
        "\n",
        "opt = Adam(lr=INIT_LR, decay=INIT_LR / EPOCHS)\n",
        "\n"
      ],
      "execution_count": null,
      "outputs": []
    },
    {
      "cell_type": "code",
      "metadata": {
        "colab": {
          "base_uri": "https://localhost:8080/",
          "height": 52
        },
        "id": "fIJGTqqW7AP8",
        "outputId": "b1e6880c-f93c-4b5e-8d94-c84d308479b7"
      },
      "source": [
        "# Utilisation de l'optimizer dans un model (déjà configuré avant)\n",
        "model.compile(loss=\"categorical_crossentropy\", optimizer=opt, metrics=[\"accuracy\"])\n",
        "\"\"\"\n",
        "model.compile(\n",
        "    optimizer=opt,\n",
        "    loss=tfa.losses.TripletSemiHardLoss(),\n",
        "    metrics=[tfa.metrics.MultiLabelConfusionMatrix(num_classes=10)])\n",
        "\"\"\""
      ],
      "execution_count": null,
      "outputs": [
        {
          "output_type": "execute_result",
          "data": {
            "application/vnd.google.colaboratory.intrinsic+json": {
              "type": "string"
            },
            "text/plain": [
              "'\\nmodel.compile(\\n    optimizer=opt,\\n    loss=tfa.losses.TripletSemiHardLoss(),\\n    metrics=[tfa.metrics.MultiLabelConfusionMatrix(num_classes=10)])\\n'"
            ]
          },
          "metadata": {
            "tags": []
          },
          "execution_count": 30
        }
      ]
    },
    {
      "cell_type": "code",
      "metadata": {
        "colab": {
          "base_uri": "https://localhost:8080/"
        },
        "id": "K66FwB8DUmqw",
        "outputId": "7d73d904-3d6f-4a1d-b965-4606ee63e9f5"
      },
      "source": [
        "\n",
        "# train the head of the network\n",
        "print(\"[INFO] training head...\")\n",
        "H = model.fit(\n",
        "\taug.flow(trainX, trainY, batch_size=BS),\n",
        "\n",
        "\tvalidation_data=(testX, testY),\n",
        "\n",
        "\tepochs=EPOCHS,\n",
        "\tclass_weight = {0:5 , 1:1, 2:10})\n"
      ],
      "execution_count": null,
      "outputs": [
        {
          "output_type": "stream",
          "text": [
            "[INFO] training head...\n",
            "Epoch 1/50\n",
            "145/145 [==============================] - 70s 416ms/step - loss: 5.2657 - accuracy: 0.5323 - val_loss: 0.9476 - val_accuracy: 0.6398\n",
            "Epoch 2/50\n",
            "145/145 [==============================] - 59s 407ms/step - loss: 4.6062 - accuracy: 0.5956 - val_loss: 0.9253 - val_accuracy: 0.6476\n",
            "Epoch 3/50\n",
            "145/145 [==============================] - 59s 407ms/step - loss: 4.3149 - accuracy: 0.6176 - val_loss: 0.9271 - val_accuracy: 0.6502\n",
            "Epoch 4/50\n",
            "145/145 [==============================] - 59s 409ms/step - loss: 4.4132 - accuracy: 0.6098 - val_loss: 0.8927 - val_accuracy: 0.6788\n",
            "Epoch 5/50\n",
            "145/145 [==============================] - 59s 408ms/step - loss: 4.3564 - accuracy: 0.6194 - val_loss: 0.9405 - val_accuracy: 0.5861\n",
            "Epoch 6/50\n",
            "145/145 [==============================] - 59s 407ms/step - loss: 4.2392 - accuracy: 0.6515 - val_loss: 0.9075 - val_accuracy: 0.6874\n",
            "Epoch 7/50\n",
            "145/145 [==============================] - 58s 402ms/step - loss: 4.2944 - accuracy: 0.6411 - val_loss: 0.9303 - val_accuracy: 0.6753\n",
            "Epoch 8/50\n",
            "145/145 [==============================] - 58s 401ms/step - loss: 4.2470 - accuracy: 0.6578 - val_loss: 0.9395 - val_accuracy: 0.6641\n",
            "Epoch 9/50\n",
            "145/145 [==============================] - 58s 401ms/step - loss: 4.2841 - accuracy: 0.6384 - val_loss: 0.9564 - val_accuracy: 0.6528\n",
            "Epoch 10/50\n",
            "145/145 [==============================] - 58s 401ms/step - loss: 4.2717 - accuracy: 0.6451 - val_loss: 0.9363 - val_accuracy: 0.6745\n",
            "Epoch 11/50\n",
            "145/145 [==============================] - 58s 400ms/step - loss: 4.2692 - accuracy: 0.6617 - val_loss: 0.9434 - val_accuracy: 0.6701\n",
            "Epoch 12/50\n",
            "145/145 [==============================] - 58s 402ms/step - loss: 4.2984 - accuracy: 0.6269 - val_loss: 0.9471 - val_accuracy: 0.6745\n",
            "Epoch 13/50\n",
            "145/145 [==============================] - 58s 403ms/step - loss: 4.3284 - accuracy: 0.6347 - val_loss: 0.9526 - val_accuracy: 0.6563\n",
            "Epoch 14/50\n",
            "145/145 [==============================] - 58s 401ms/step - loss: 4.2846 - accuracy: 0.6656 - val_loss: 0.9986 - val_accuracy: 0.6606\n",
            "Epoch 15/50\n",
            "145/145 [==============================] - 58s 400ms/step - loss: 4.2243 - accuracy: 0.6657 - val_loss: 0.9827 - val_accuracy: 0.6597\n",
            "Epoch 16/50\n",
            "145/145 [==============================] - 58s 400ms/step - loss: 4.1424 - accuracy: 0.6786 - val_loss: 1.0105 - val_accuracy: 0.6926\n",
            "Epoch 17/50\n",
            "145/145 [==============================] - 58s 400ms/step - loss: 4.1847 - accuracy: 0.6757 - val_loss: 1.0449 - val_accuracy: 0.6545\n",
            "Epoch 18/50\n",
            "145/145 [==============================] - 59s 404ms/step - loss: 4.1535 - accuracy: 0.6776 - val_loss: 1.0465 - val_accuracy: 0.6563\n",
            "Epoch 19/50\n",
            "145/145 [==============================] - 59s 405ms/step - loss: 4.3108 - accuracy: 0.6506 - val_loss: 1.0458 - val_accuracy: 0.6329\n",
            "Epoch 20/50\n",
            "145/145 [==============================] - 59s 405ms/step - loss: 4.2267 - accuracy: 0.6636 - val_loss: 1.0565 - val_accuracy: 0.6563\n",
            "Epoch 21/50\n",
            "145/145 [==============================] - 58s 402ms/step - loss: 4.1702 - accuracy: 0.6716 - val_loss: 1.0226 - val_accuracy: 0.6900\n",
            "Epoch 22/50\n",
            "145/145 [==============================] - 58s 396ms/step - loss: 4.2464 - accuracy: 0.6471 - val_loss: 1.0680 - val_accuracy: 0.6944\n",
            "Epoch 23/50\n",
            "145/145 [==============================] - 57s 393ms/step - loss: 4.1483 - accuracy: 0.6839 - val_loss: 1.0415 - val_accuracy: 0.6407\n",
            "Epoch 24/50\n",
            "145/145 [==============================] - 56s 388ms/step - loss: 4.1345 - accuracy: 0.6662 - val_loss: 1.0886 - val_accuracy: 0.6788\n",
            "Epoch 25/50\n",
            "145/145 [==============================] - 57s 391ms/step - loss: 4.1609 - accuracy: 0.6805 - val_loss: 1.0869 - val_accuracy: 0.6615\n",
            "Epoch 26/50\n",
            "145/145 [==============================] - 56s 385ms/step - loss: 4.1599 - accuracy: 0.6698 - val_loss: 1.1116 - val_accuracy: 0.6190\n",
            "Epoch 27/50\n",
            "145/145 [==============================] - 56s 383ms/step - loss: 4.1530 - accuracy: 0.6811 - val_loss: 1.0723 - val_accuracy: 0.6433\n",
            "Epoch 28/50\n",
            "145/145 [==============================] - 56s 383ms/step - loss: 4.1728 - accuracy: 0.6580 - val_loss: 1.0982 - val_accuracy: 0.6848\n",
            "Epoch 29/50\n",
            "145/145 [==============================] - 55s 382ms/step - loss: 4.1606 - accuracy: 0.6736 - val_loss: 1.0788 - val_accuracy: 0.5965\n",
            "Epoch 30/50\n",
            "145/145 [==============================] - 55s 382ms/step - loss: 4.1416 - accuracy: 0.6758 - val_loss: 1.0875 - val_accuracy: 0.6390\n",
            "Epoch 31/50\n",
            "145/145 [==============================] - 56s 383ms/step - loss: 4.1663 - accuracy: 0.6641 - val_loss: 1.0914 - val_accuracy: 0.6892\n",
            "Epoch 32/50\n",
            "145/145 [==============================] - 55s 383ms/step - loss: 4.2266 - accuracy: 0.6433 - val_loss: 1.1168 - val_accuracy: 0.6727\n",
            "Epoch 33/50\n",
            "145/145 [==============================] - 55s 381ms/step - loss: 4.1410 - accuracy: 0.6731 - val_loss: 1.1422 - val_accuracy: 0.6736\n",
            "Epoch 34/50\n",
            "145/145 [==============================] - 55s 382ms/step - loss: 4.1974 - accuracy: 0.6532 - val_loss: 1.1653 - val_accuracy: 0.6667\n",
            "Epoch 35/50\n",
            "145/145 [==============================] - 55s 382ms/step - loss: 4.1993 - accuracy: 0.6452 - val_loss: 1.1413 - val_accuracy: 0.6710\n",
            "Epoch 36/50\n",
            "145/145 [==============================] - 56s 385ms/step - loss: 4.1938 - accuracy: 0.6755 - val_loss: 1.1471 - val_accuracy: 0.6476\n",
            "Epoch 37/50\n",
            "145/145 [==============================] - 55s 382ms/step - loss: 4.1619 - accuracy: 0.6583 - val_loss: 1.1474 - val_accuracy: 0.6831\n",
            "Epoch 38/50\n",
            "145/145 [==============================] - 56s 383ms/step - loss: 4.1011 - accuracy: 0.6781 - val_loss: 1.2245 - val_accuracy: 0.6918\n",
            "Epoch 39/50\n",
            "145/145 [==============================] - 56s 383ms/step - loss: 4.1785 - accuracy: 0.6683 - val_loss: 1.2167 - val_accuracy: 0.6918\n",
            "Epoch 40/50\n",
            "145/145 [==============================] - 55s 382ms/step - loss: 4.1575 - accuracy: 0.6774 - val_loss: 1.2422 - val_accuracy: 0.6883\n",
            "Epoch 41/50\n",
            "145/145 [==============================] - 55s 382ms/step - loss: 4.1451 - accuracy: 0.6694 - val_loss: 1.2078 - val_accuracy: 0.6909\n",
            "Epoch 42/50\n",
            "145/145 [==============================] - 56s 384ms/step - loss: 4.0889 - accuracy: 0.6986 - val_loss: 1.1967 - val_accuracy: 0.6848\n",
            "Epoch 43/50\n",
            "145/145 [==============================] - 55s 381ms/step - loss: 4.1415 - accuracy: 0.6441 - val_loss: 1.1907 - val_accuracy: 0.6797\n",
            "Epoch 44/50\n",
            "145/145 [==============================] - 55s 381ms/step - loss: 4.0686 - accuracy: 0.6811 - val_loss: 1.2073 - val_accuracy: 0.6459\n",
            "Epoch 45/50\n",
            "145/145 [==============================] - 55s 384ms/step - loss: 4.1740 - accuracy: 0.6583 - val_loss: 1.2318 - val_accuracy: 0.6710\n",
            "Epoch 46/50\n",
            "145/145 [==============================] - 56s 384ms/step - loss: 4.1474 - accuracy: 0.6766 - val_loss: 1.3259 - val_accuracy: 0.6918\n",
            "Epoch 47/50\n",
            "145/145 [==============================] - 56s 387ms/step - loss: 4.1425 - accuracy: 0.6567 - val_loss: 1.2450 - val_accuracy: 0.6753\n",
            "Epoch 48/50\n",
            "145/145 [==============================] - 55s 383ms/step - loss: 4.0954 - accuracy: 0.6651 - val_loss: 1.2945 - val_accuracy: 0.6701\n",
            "Epoch 49/50\n",
            "145/145 [==============================] - 56s 383ms/step - loss: 4.1473 - accuracy: 0.6608 - val_loss: 1.3336 - val_accuracy: 0.6909\n",
            "Epoch 50/50\n",
            "145/145 [==============================] - 56s 384ms/step - loss: 4.0584 - accuracy: 0.6719 - val_loss: 1.3099 - val_accuracy: 0.6589\n"
          ],
          "name": "stdout"
        }
      ]
    },
    {
      "cell_type": "code",
      "metadata": {
        "colab": {
          "base_uri": "https://localhost:8080/"
        },
        "id": "mpJBmdhoUsb4",
        "outputId": "950d8626-9b05-4599-9530-bdff10574d7b"
      },
      "source": [
        "# make predictions on the testing set\n",
        "print(\"[INFO] evaluating network...\")\n",
        "predIdxs = model.predict(testX, batch_size=BS)\n",
        "\n",
        "# for each image in the testing set we need to find the index of the\n",
        "# label with corresponding largest predicted probability\n",
        "predIdxs = np.argmax(predIdxs, axis=1)\n",
        "\n",
        "# show a nicely formatted classification report\n",
        "print(classification_report(testY.argmax(axis=1), predIdxs))"
      ],
      "execution_count": null,
      "outputs": [
        {
          "output_type": "stream",
          "text": [
            "[INFO] evaluating network...\n",
            "              precision    recall  f1-score   support\n",
            "\n",
            "           0       0.69      0.93      0.79       802\n",
            "           1       0.00      0.00      0.00        89\n",
            "           2       0.22      0.07      0.11       264\n",
            "\n",
            "    accuracy                           0.66      1155\n",
            "   macro avg       0.31      0.33      0.30      1155\n",
            "weighted avg       0.53      0.66      0.58      1155\n",
            "\n"
          ],
          "name": "stdout"
        },
        {
          "output_type": "stream",
          "text": [
            "/usr/local/lib/python3.6/dist-packages/sklearn/metrics/_classification.py:1272: UndefinedMetricWarning: Precision and F-score are ill-defined and being set to 0.0 in labels with no predicted samples. Use `zero_division` parameter to control this behavior.\n",
            "  _warn_prf(average, modifier, msg_start, len(result))\n"
          ],
          "name": "stderr"
        }
      ]
    },
    {
      "cell_type": "code",
      "metadata": {
        "colab": {
          "base_uri": "https://localhost:8080/",
          "height": 299
        },
        "id": "Im9EfZGMUwQX",
        "outputId": "d8e7bd52-2e0d-477d-93fe-46d7ed96a7d0"
      },
      "source": [
        "# plot the training loss and accuracy\n",
        "\n",
        "\n",
        "N = EPOCHS\n",
        "plt.style.use(\"ggplot\")\n",
        "plt.figure()\n",
        "plt.plot(np.arange(0, N), H.history[\"loss\"], label=\"train_loss\")\n",
        "plt.plot(np.arange(0, N), H.history[\"val_loss\"], label=\"val_loss\")\n",
        "plt.plot(np.arange(0, N), H.history[\"accuracy\"], label=\"train_acc\")\n",
        "plt.plot(np.arange(0, N), H.history[\"val_accuracy\"], label=\"val_acc\")\n",
        "plt.title(\"Training Loss and Accuracy\")\n",
        "plt.xlabel(\"Epoch #\")\n",
        "plt.ylabel(\"Loss/Accuracy\")\n",
        "plt.legend(loc=\"lower left\")\n",
        "#plt.savefig(\"plot.png\")\n",
        "plt.show()"
      ],
      "execution_count": null,
      "outputs": [
        {
          "output_type": "display_data",
          "data": {
            "image/png": "[encoded data removed]",
            "text/plain": [
              "<Figure size 432x288 with 1 Axes>"
            ]
          },
          "metadata": {
            "tags": []
          }
        }
      ]
    },
    {
      "cell_type": "code",
      "metadata": {
        "colab": {
          "base_uri": "https://localhost:8080/"
        },
        "id": "vqHRWEwB9Snl",
        "outputId": "ee223e3f-26bf-4030-ca0d-bf657b34e8d2"
      },
      "source": [
        "# serialize the model to disk\n",
        "print(\"[INFO] saving mask detector model...\")\n",
        "from datetime import datetime\n",
        "now = datetime.now()\n",
        "dt_string = now.strftime(\"%Y_%m_%d_%H_%M_%S\")\n",
        "dt_string = \"mask_detector_Adam_\" + dt_string\n",
        "print(dt_string)\n",
        "model.save(dt_string + \".h5\")\n"
      ],
      "execution_count": null,
      "outputs": [
        {
          "output_type": "stream",
          "text": [
            "[INFO] saving mask detector model...\n",
            "mask_detector_Adam_2020_12_25_15_34_55\n"
          ],
          "name": "stdout"
        }
      ]
    },
    {
      "cell_type": "code",
      "metadata": {
        "colab": {
          "base_uri": "https://localhost:8080/",
          "height": 35
        },
        "id": "DASXgQ8gsJkx",
        "outputId": "2069104b-1da2-42de-8e54-3440a6d3189e"
      },
      "source": [
        "\"\"\"\n",
        "print('loading model...')\n",
        "model = tf.keras.models.load_model('mask_detector1.h5')\n",
        "\"\"\""
      ],
      "execution_count": null,
      "outputs": [
        {
          "output_type": "execute_result",
          "data": {
            "application/vnd.google.colaboratory.intrinsic+json": {
              "type": "string"
            },
            "text/plain": [
              "\"\\nprint('loading model...')\\nmodel = tf.keras.models.load_model('mask_detector1.h5')\\n\""
            ]
          },
          "metadata": {
            "tags": []
          },
          "execution_count": 35
        }
      ]
    },
    {
      "cell_type": "code",
      "metadata": {
        "colab": {
          "base_uri": "https://localhost:8080/",
          "height": 52
        },
        "id": "g9rdTWfLsLFf",
        "outputId": "cd447c40-bd0e-4639-aa26-60770ef8bbe5"
      },
      "source": [
        "#load the saved model RAdam\n",
        "\"\"\"\n",
        "print('loading model...')\n",
        "opt = tfa.optimizers.RectifiedAdam(\n",
        "    lr=1e-3,\n",
        "    total_steps=10000,\n",
        "    warmup_proportion=0.1,\n",
        "    min_lr=1e-5,\n",
        ")\n",
        "\n",
        "ranger = tfa.optimizers.Lookahead(opt, sync_period=6, slow_step_size=0.5, name='Lookahead',)\n",
        "\n",
        "model = tf.keras.models.load_model('mask_detector_2020_12_19_07_20.h5', custom_objects={'Lookahead': ranger})\n",
        "\n",
        "print('model loaded')\n",
        "\"\"\""
      ],
      "execution_count": null,
      "outputs": [
        {
          "output_type": "execute_result",
          "data": {
            "application/vnd.google.colaboratory.intrinsic+json": {
              "type": "string"
            },
            "text/plain": [
              "\"\\nprint('loading model...')\\nopt = tfa.optimizers.RectifiedAdam(\\n    lr=1e-3,\\n    total_steps=10000,\\n    warmup_proportion=0.1,\\n    min_lr=1e-5,\\n)\\n\\nranger = tfa.optimizers.Lookahead(opt, sync_period=6, slow_step_size=0.5, name='Lookahead',)\\n\\nmodel = tf.keras.models.load_model('mask_detector_2020_12_19_07_20.h5', custom_objects={'Lookahead': ranger})\\n\\nprint('model loaded')\\n\""
            ]
          },
          "metadata": {
            "tags": []
          },
          "execution_count": 36
        }
      ]
    },
    {
      "cell_type": "code",
      "metadata": {
        "id": "1d3_xLn99Bn4"
      },
      "source": [
        "#load the saved model\n",
        "import keras\n",
        "model = keras.models.load_model(dt_string + \".h5\")"
      ],
      "execution_count": null,
      "outputs": []
    },
    {
      "cell_type": "code",
      "metadata": {
        "colab": {
          "base_uri": "https://localhost:8080/"
        },
        "id": "9eF_dCAoWwn5",
        "outputId": "fba1a894-c288-4edc-8c1d-a95209377134"
      },
      "source": [
        "\n",
        "#train the saved model again \n",
        "print(\"[INFO] compiling model...\")\n",
        "opt = Adam(lr=INIT_LR, decay=INIT_LR / EPOCHS)\n",
        "model.compile(loss=\"categorical_crossentropy\", optimizer=opt,\n",
        "\tmetrics=[\"accuracy\"])"
      ],
      "execution_count": null,
      "outputs": [
        {
          "output_type": "stream",
          "text": [
            "[INFO] compiling model...\n"
          ],
          "name": "stdout"
        }
      ]
    },
    {
      "cell_type": "code",
      "metadata": {
        "colab": {
          "base_uri": "https://localhost:8080/"
        },
        "id": "VG6gSS20WsTo",
        "outputId": "a374383b-e3a8-436b-fdec-f6bfc3581d6c"
      },
      "source": [
        "\n",
        "\n",
        "# train the head of the network\n",
        "print(\"[INFO] training head...\")\n",
        "H = model.fit(\n",
        "\taug.flow(trainX, trainY, batch_size=BS),\n",
        "\tvalidation_data=(testX, testY),\n",
        "\tepochs=EPOCHS,\n",
        "    class_weight = {0:5 , 1:1, 2:10})\n",
        "\n"
      ],
      "execution_count": null,
      "outputs": [
        {
          "output_type": "stream",
          "text": [
            "[INFO] training head...\n",
            "Epoch 1/50\n",
            "145/145 [==============================] - 59s 391ms/step - loss: 4.1076 - accuracy: 0.6780 - val_loss: 1.5263 - val_accuracy: 0.6926\n",
            "Epoch 2/50\n",
            "145/145 [==============================] - 56s 386ms/step - loss: 4.1535 - accuracy: 0.6726 - val_loss: 1.5042 - val_accuracy: 0.6918\n",
            "Epoch 3/50\n",
            "145/145 [==============================] - 57s 394ms/step - loss: 4.1296 - accuracy: 0.6749 - val_loss: 1.4550 - val_accuracy: 0.6866\n",
            "Epoch 4/50\n",
            "145/145 [==============================] - 58s 400ms/step - loss: 4.0178 - accuracy: 0.6821 - val_loss: 1.4358 - val_accuracy: 0.6589\n",
            "Epoch 5/50\n",
            "145/145 [==============================] - 57s 391ms/step - loss: 4.0646 - accuracy: 0.6697 - val_loss: 1.3585 - val_accuracy: 0.6355\n",
            "Epoch 6/50\n",
            "145/145 [==============================] - 57s 393ms/step - loss: 4.1206 - accuracy: 0.6629 - val_loss: 1.4404 - val_accuracy: 0.6424\n",
            "Epoch 7/50\n",
            "145/145 [==============================] - 57s 390ms/step - loss: 4.0915 - accuracy: 0.6494 - val_loss: 1.4669 - val_accuracy: 0.6519\n",
            "Epoch 8/50\n",
            "145/145 [==============================] - 57s 396ms/step - loss: 4.0576 - accuracy: 0.6702 - val_loss: 1.3448 - val_accuracy: 0.6398\n",
            "Epoch 9/50\n",
            "145/145 [==============================] - 57s 393ms/step - loss: 4.0420 - accuracy: 0.6604 - val_loss: 1.4173 - val_accuracy: 0.6823\n",
            "Epoch 10/50\n",
            "145/145 [==============================] - 56s 387ms/step - loss: 4.1040 - accuracy: 0.6611 - val_loss: 1.4939 - val_accuracy: 0.6684\n",
            "Epoch 11/50\n",
            "145/145 [==============================] - 56s 384ms/step - loss: 4.0102 - accuracy: 0.6818 - val_loss: 1.4308 - val_accuracy: 0.6494\n",
            "Epoch 12/50\n",
            "145/145 [==============================] - 56s 385ms/step - loss: 4.0945 - accuracy: 0.6592 - val_loss: 1.4663 - val_accuracy: 0.6416\n",
            "Epoch 13/50\n",
            "145/145 [==============================] - 56s 387ms/step - loss: 4.0501 - accuracy: 0.6697 - val_loss: 1.6077 - val_accuracy: 0.6883\n",
            "Epoch 14/50\n",
            "145/145 [==============================] - 57s 392ms/step - loss: 4.1445 - accuracy: 0.6660 - val_loss: 1.5061 - val_accuracy: 0.6320\n",
            "Epoch 15/50\n",
            "145/145 [==============================] - 56s 387ms/step - loss: 4.0992 - accuracy: 0.6545 - val_loss: 1.5258 - val_accuracy: 0.6537\n",
            "Epoch 16/50\n",
            "145/145 [==============================] - 56s 387ms/step - loss: 4.0446 - accuracy: 0.6737 - val_loss: 1.5892 - val_accuracy: 0.6675\n",
            "Epoch 17/50\n",
            "145/145 [==============================] - 56s 383ms/step - loss: 4.0475 - accuracy: 0.6781 - val_loss: 1.5560 - val_accuracy: 0.6511\n",
            "Epoch 18/50\n",
            "145/145 [==============================] - 56s 384ms/step - loss: 4.1158 - accuracy: 0.6579 - val_loss: 1.6731 - val_accuracy: 0.6710\n",
            "Epoch 19/50\n",
            "145/145 [==============================] - 56s 386ms/step - loss: 4.1055 - accuracy: 0.6609 - val_loss: 1.6558 - val_accuracy: 0.6537\n",
            "Epoch 20/50\n",
            "145/145 [==============================] - 56s 386ms/step - loss: 4.0803 - accuracy: 0.6635 - val_loss: 1.6791 - val_accuracy: 0.6848\n",
            "Epoch 21/50\n",
            "145/145 [==============================] - 56s 384ms/step - loss: 3.9169 - accuracy: 0.6970 - val_loss: 1.6047 - val_accuracy: 0.6087\n",
            "Epoch 22/50\n",
            "145/145 [==============================] - 56s 385ms/step - loss: 4.0229 - accuracy: 0.6598 - val_loss: 1.5732 - val_accuracy: 0.6537\n",
            "Epoch 23/50\n",
            "145/145 [==============================] - 56s 386ms/step - loss: 4.0403 - accuracy: 0.6775 - val_loss: 1.7418 - val_accuracy: 0.6615\n",
            "Epoch 24/50\n",
            "145/145 [==============================] - 56s 385ms/step - loss: 4.0823 - accuracy: 0.6675 - val_loss: 1.7060 - val_accuracy: 0.6450\n",
            "Epoch 25/50\n",
            "145/145 [==============================] - 56s 386ms/step - loss: 4.0951 - accuracy: 0.6751 - val_loss: 1.7716 - val_accuracy: 0.6571\n",
            "Epoch 26/50\n",
            "145/145 [==============================] - 56s 385ms/step - loss: 4.0618 - accuracy: 0.6769 - val_loss: 1.6120 - val_accuracy: 0.6485\n",
            "Epoch 27/50\n",
            "145/145 [==============================] - 56s 384ms/step - loss: 4.0447 - accuracy: 0.6689 - val_loss: 1.6648 - val_accuracy: 0.6597\n",
            "Epoch 28/50\n",
            "145/145 [==============================] - 56s 386ms/step - loss: 4.0782 - accuracy: 0.6638 - val_loss: 1.7174 - val_accuracy: 0.6511\n",
            "Epoch 29/50\n",
            "145/145 [==============================] - 56s 384ms/step - loss: 3.9555 - accuracy: 0.6884 - val_loss: 1.6237 - val_accuracy: 0.6294\n",
            "Epoch 30/50\n",
            "145/145 [==============================] - 56s 383ms/step - loss: 4.1150 - accuracy: 0.6478 - val_loss: 1.8128 - val_accuracy: 0.6364\n",
            "Epoch 31/50\n",
            "145/145 [==============================] - 55s 382ms/step - loss: 4.0696 - accuracy: 0.6521 - val_loss: 1.7929 - val_accuracy: 0.6632\n",
            "Epoch 32/50\n",
            "145/145 [==============================] - 56s 384ms/step - loss: 4.0485 - accuracy: 0.6854 - val_loss: 1.6915 - val_accuracy: 0.6632\n",
            "Epoch 33/50\n",
            "145/145 [==============================] - 56s 383ms/step - loss: 3.9464 - accuracy: 0.6969 - val_loss: 1.6802 - val_accuracy: 0.6286\n",
            "Epoch 34/50\n",
            "145/145 [==============================] - 55s 382ms/step - loss: 3.9863 - accuracy: 0.6683 - val_loss: 1.6598 - val_accuracy: 0.6312\n",
            "Epoch 35/50\n",
            "145/145 [==============================] - 56s 383ms/step - loss: 3.9783 - accuracy: 0.6622 - val_loss: 1.6828 - val_accuracy: 0.6632\n",
            "Epoch 36/50\n",
            "145/145 [==============================] - 56s 385ms/step - loss: 4.0233 - accuracy: 0.6909 - val_loss: 1.6598 - val_accuracy: 0.6468\n",
            "Epoch 37/50\n",
            "145/145 [==============================] - 56s 383ms/step - loss: 4.1163 - accuracy: 0.6477 - val_loss: 1.6064 - val_accuracy: 0.6251\n",
            "Epoch 38/50\n",
            "145/145 [==============================] - 56s 385ms/step - loss: 4.0149 - accuracy: 0.6777 - val_loss: 1.6342 - val_accuracy: 0.6658\n",
            "Epoch 39/50\n",
            "145/145 [==============================] - 56s 385ms/step - loss: 4.0206 - accuracy: 0.6684 - val_loss: 1.6721 - val_accuracy: 0.6519\n",
            "Epoch 40/50\n",
            "145/145 [==============================] - 56s 384ms/step - loss: 4.0012 - accuracy: 0.6757 - val_loss: 1.6189 - val_accuracy: 0.6459\n",
            "Epoch 41/50\n",
            "145/145 [==============================] - 56s 384ms/step - loss: 3.9826 - accuracy: 0.6909 - val_loss: 1.7337 - val_accuracy: 0.6554\n",
            "Epoch 42/50\n",
            "145/145 [==============================] - 55s 382ms/step - loss: 3.9798 - accuracy: 0.6766 - val_loss: 1.6911 - val_accuracy: 0.6537\n",
            "Epoch 43/50\n",
            "145/145 [==============================] - 55s 380ms/step - loss: 4.0253 - accuracy: 0.6771 - val_loss: 1.8563 - val_accuracy: 0.6831\n",
            "Epoch 44/50\n",
            "145/145 [==============================] - 55s 382ms/step - loss: 4.0315 - accuracy: 0.6779 - val_loss: 1.6671 - val_accuracy: 0.6545\n",
            "Epoch 45/50\n",
            "145/145 [==============================] - 55s 381ms/step - loss: 4.0891 - accuracy: 0.6498 - val_loss: 1.8727 - val_accuracy: 0.6788\n",
            "Epoch 46/50\n",
            "145/145 [==============================] - 55s 380ms/step - loss: 3.9501 - accuracy: 0.6704 - val_loss: 1.9124 - val_accuracy: 0.6632\n",
            "Epoch 47/50\n",
            "145/145 [==============================] - 55s 382ms/step - loss: 4.0262 - accuracy: 0.6710 - val_loss: 1.9590 - val_accuracy: 0.6909\n",
            "Epoch 48/50\n",
            "145/145 [==============================] - 55s 381ms/step - loss: 3.9886 - accuracy: 0.6779 - val_loss: 1.9380 - val_accuracy: 0.6745\n",
            "Epoch 49/50\n",
            "145/145 [==============================] - 55s 381ms/step - loss: 4.0697 - accuracy: 0.6670 - val_loss: 1.8384 - val_accuracy: 0.6753\n",
            "Epoch 50/50\n",
            "145/145 [==============================] - 56s 384ms/step - loss: 4.0037 - accuracy: 0.6736 - val_loss: 1.9237 - val_accuracy: 0.6684\n"
          ],
          "name": "stdout"
        }
      ]
    },
    {
      "cell_type": "code",
      "metadata": {
        "colab": {
          "base_uri": "https://localhost:8080/"
        },
        "id": "BtosBF9ZXNyo",
        "outputId": "27788fdb-fcec-46d5-c6e2-9503a0c72302"
      },
      "source": [
        "#Evaluate the model again\n",
        "print(\"[INFO] evaluating network...\")\n",
        "predIdxs = model.predict(testX, batch_size=32)\n",
        "\n",
        "# for each image in the testing set we need to find the index of the\n",
        "# label with corresponding largest predicted probability\n",
        "predIdxs = np.argmax(predIdxs, axis=1)\n",
        "\n",
        "# show a nicely formatted classification report\n",
        "print(classification_report(testY.argmax(axis=1), predIdxs))\n"
      ],
      "execution_count": null,
      "outputs": [
        {
          "output_type": "stream",
          "text": [
            "[INFO] evaluating network...\n",
            "              precision    recall  f1-score   support\n",
            "\n",
            "           0       0.69      0.96      0.80       802\n",
            "           1       0.00      0.00      0.00        89\n",
            "           2       0.06      0.01      0.01       264\n",
            "\n",
            "    accuracy                           0.67      1155\n",
            "   macro avg       0.25      0.32      0.27      1155\n",
            "weighted avg       0.49      0.67      0.56      1155\n",
            "\n"
          ],
          "name": "stdout"
        },
        {
          "output_type": "stream",
          "text": [
            "/usr/local/lib/python3.6/dist-packages/sklearn/metrics/_classification.py:1272: UndefinedMetricWarning: Precision and F-score are ill-defined and being set to 0.0 in labels with no predicted samples. Use `zero_division` parameter to control this behavior.\n",
            "  _warn_prf(average, modifier, msg_start, len(result))\n"
          ],
          "name": "stderr"
        }
      ]
    },
    {
      "cell_type": "code",
      "metadata": {
        "colab": {
          "base_uri": "https://localhost:8080/",
          "height": 299
        },
        "id": "xbz7lDVy9tMf",
        "outputId": "f37b4ce5-c94c-40fb-e656-8e0d799809aa"
      },
      "source": [
        "\n",
        "# plot the training loss and accuracy\n",
        "N = EPOCHS\n",
        "plt.style.use(\"ggplot\")\n",
        "plt.figure()\n",
        "plt.plot(np.arange(0, N), H.history[\"loss\"], label=\"train_loss\")\n",
        "plt.plot(np.arange(0, N), H.history[\"val_loss\"], label=\"val_loss\")\n",
        "plt.plot(np.arange(0, N), H.history[\"accuracy\"], label=\"train_acc\")\n",
        "plt.plot(np.arange(0, N), H.history[\"val_accuracy\"], label=\"val_acc\")\n",
        "plt.title(\"Training Loss and Accuracy\")\n",
        "plt.xlabel(\"Epoch #\")\n",
        "plt.ylabel(\"Loss/Accuracy\")\n",
        "plt.legend(loc=\"lower left\")\n",
        "plt.savefig(dt_string + \".png\")\n",
        "plt.show()\n"
      ],
      "execution_count": null,
      "outputs": [
        {
          "output_type": "display_data",
          "data": {
            "image/png": "[encoded data removed]",
            "text/plain": [
              "<Figure size 432x288 with 1 Axes>"
            ]
          },
          "metadata": {
            "tags": []
          }
        }
      ]
    },
    {
      "cell_type": "code",
      "metadata": {
        "colab": {
          "base_uri": "https://localhost:8080/"
        },
        "id": "0_F8gT6F9yZG",
        "outputId": "aa1f5c50-66ac-4fe6-ac78-7352c5a19e88"
      },
      "source": [
        "# serialize the model to disk\n",
        "print(\"[INFO] saving mask detector model...\")\n",
        "\n",
        "dt_string = dt_string + \"_V2\"\n",
        "print(dt_string)\n",
        "model.save(dt_string+\".h5\")"
      ],
      "execution_count": null,
      "outputs": [
        {
          "output_type": "stream",
          "text": [
            "[INFO] saving mask detector model...\n",
            "mask_detector_Adam_2020_12_25_15_34_55_V2\n"
          ],
          "name": "stdout"
        }
      ]
    }
  ]
}